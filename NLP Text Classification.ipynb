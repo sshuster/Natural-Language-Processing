{
 "cells": [
  {
   "cell_type": "code",
   "execution_count": 1,
   "metadata": {},
   "outputs": [
    {
     "name": "stderr",
     "output_type": "stream",
     "text": [
      "/anaconda3/lib/python3.6/site-packages/h5py/__init__.py:36: FutureWarning: Conversion of the second argument of issubdtype from `float` to `np.floating` is deprecated. In future, it will be treated as `np.float64 == np.dtype(float).type`.\n",
      "  from ._conv import register_converters as _register_converters\n"
     ]
    }
   ],
   "source": [
    "import numpy as np\n",
    "import pandas as pd\n",
    "from pandas.plotting import autocorrelation_plot\n",
    "from math import sqrt\n",
    "import scipy as sp\n",
    "from scipy import stats\n",
    "import scipy.signal\n",
    "from scipy.signal import fftconvolve, convolve\n",
    "import matplotlib.pyplot as plt\n",
    "import seaborn as sns\n",
    "from ipywidgets import interact\n",
    "import random as ran\n",
    "\n",
    "from datetime import datetime\n",
    "from datetime import timedelta\n",
    "from dateutil.relativedelta import *\n",
    "\n",
    "from sklearn.linear_model import LinearRegression, Ridge, Lasso, ElasticNet, RidgeCV, LassoCV, ElasticNetCV, LogisticRegression\n",
    "from sklearn.multiclass import OneVsRestClassifier, OneVsOneClassifier\n",
    "from sklearn.neighbors import KNeighborsClassifier, KNeighborsRegressor\n",
    "from sklearn.model_selection import train_test_split, cross_val_score, cross_val_predict, KFold, GridSearchCV\n",
    "from sklearn.preprocessing import PolynomialFeatures, StandardScaler\n",
    "from sklearn.feature_extraction.text import CountVectorizer, TfidfVectorizer, HashingVectorizer, ENGLISH_STOP_WORDS\n",
    "from sklearn.naive_bayes import MultinomialNB, GaussianNB\n",
    "from sklearn.tree import DecisionTreeClassifier, DecisionTreeRegressor, export_graphviz\n",
    "from sklearn.ensemble import RandomForestClassifier, RandomForestRegressor\n",
    "from sklearn.decomposition import LatentDirichletAllocation\n",
    "from sklearn.pipeline import make_pipeline\n",
    "from sklearn import metrics\n",
    "from sklearn import datasets\n",
    "from textblob import TextBlob, Word\n",
    "from nltk.stem.snowball import SnowballStemmer\n",
    "from nltk.sentiment.vader import SentimentIntensityAnalyzer\n",
    "from nltk.corpus import stopwords\n",
    "from textacy.preprocess import preprocess_text\n",
    "\n",
    "from gensim import corpora, models, matutils\n",
    "from collections import defaultdict, Counter\n",
    "\n",
    "import statsmodels.api as sm\n",
    "import statsmodels.formula.api as sm\n",
    "from statsmodels.tsa.stattools import acf, pacf, adfuller\n",
    "from statsmodels.tsa.api import ExponentialSmoothing, SimpleExpSmoothing, Holt\n",
    "from statsmodels.graphics.tsaplots import plot_acf, plot_pacf\n",
    "from statsmodels.tsa.seasonal import seasonal_decompose\n",
    "from statsmodels.tsa.statespace.sarimax import SARIMAX\n",
    "\n",
    "import tensorflow as tf\n",
    "\n",
    "import patsy\n",
    "from itertools import combinations\n",
    "\n",
    "from imblearn.over_sampling import SMOTE\n",
    "\n",
    "import graphviz\n",
    "import json\n",
    "import requests\n",
    "import urllib\n",
    "from bs4 import BeautifulSoup\n",
    "from selenium import webdriver\n",
    "from selenium.webdriver.common.keys import Keys\n",
    "from time import sleep\n",
    "import re\n",
    "import twitter\n",
    "\n",
    "%matplotlib inline\n",
    "#plt.style.use('fivethirtyeight')\n",
    "plt.rcParams['figure.figsize'] = (10, 6)\n",
    "plt.rcParams['font.size'] = 12"
   ]
  },
  {
   "cell_type": "markdown",
   "metadata": {},
   "source": [
    "## Build and document a working model, prototype, recommendation, or solution"
   ]
  },
  {
   "cell_type": "markdown",
   "metadata": {},
   "source": [
    "[The Essential NLP Guide for Data Scientists (with codes for top 10 common NLP tasks)](https://www.analyticsvidhya.com/blog/2017/10/essential-nlp-guide-data-scientists-top-10-nlp-tasks/)"
   ]
  },
  {
   "cell_type": "markdown",
   "metadata": {},
   "source": [
    "### NLP Text Classification using Twitter API"
   ]
  },
  {
   "cell_type": "markdown",
   "metadata": {},
   "source": [
    "### Goals\n",
    "\n",
    "Classify whether a tweet comes from Donald Trump or Nancy Pelosi -> Can we correctly identify which of these two politicians tweeted what?\n",
    "\n",
    "Steps:\n",
    "- Create a developer account on Twitter\n",
    "- Create a method to pull a list of tweets from the Twitter API\n",
    "- Perform proper preprocessing on our text\n",
    "- Engineer sentiment feature in our dataset using TextBlob\n",
    "- Explore supervised classification techniques"
   ]
  },
  {
   "cell_type": "markdown",
   "metadata": {},
   "source": [
    "### Twitter API Developer Registration\n",
    "\n",
    "- Register for a Twitter account -> requirement in order to have a \"developer\" account.\n",
    "\n",
    "  [Twitter Rest API](https://dev.twitter.com/rest/public)"
   ]
  },
  {
   "cell_type": "markdown",
   "metadata": {},
   "source": [
    "### Create an \"App\"\n",
    "\n",
    "- Register an \"app\" on Twitter ([apps.twitter.com](https://apps.twitter.com/)).\n",
    "\n",
    "- **Note**: A placeholder can be used for the required website field (e.g., https://www.placeholder.com).\n",
    "\n",
    "- Reference the corresponding keys and tokens that Twitter generates after setting up the app.\n",
    "\n",
    "- These keys/tokens will be used with the app to communicate with the Twitter API."
   ]
  },
  {
   "cell_type": "markdown",
   "metadata": {},
   "source": [
    "### Install Python Twitter API Library\n",
    "\n",
    "Python Twitter Library provided by [Python Twitter Tools](http://mike.verdone.ca/twitter/)."
   ]
  },
  {
   "cell_type": "code",
   "execution_count": 2,
   "metadata": {},
   "outputs": [],
   "source": [
    "#$ pip install python-twitter"
   ]
  },
  {
   "cell_type": "markdown",
   "metadata": {},
   "source": [
    "### App Keys and Tokens\n",
    "\n",
    "Take note of the app consumer API keys and access tokens that will be used to connect to Twitter and mine tweets from the official Twitter accounts of Donald Trump and Nancy Pelosi"
   ]
  },
  {
   "cell_type": "markdown",
   "metadata": {},
   "source": [
    "### Twitter API Key Setup\n",
    "\n",
    "Fill in the information below with the keys from account.\n",
    "\n",
    "- **consumer_key** - Found in the app page under the \"Keys and tokens\": (API key)\n",
    "- **consumer_secret** - Under **consumer_key** in the \"Keys and tokens\" tab: (API secret key)\n",
    "- **access_token_key** - Click the button to generate access token: (Access token)\n",
    "- **access_token_secret** - Under **access_token_key**: (Access token secret)"
   ]
  },
  {
   "cell_type": "code",
   "execution_count": 3,
   "metadata": {},
   "outputs": [],
   "source": [
    "#import twitter, datetime"
   ]
  },
  {
   "cell_type": "markdown",
   "metadata": {},
   "source": [
    "#### NOTE: EXCLUDING KEYS AND SECRETS FOR SECURITY PURPOSES"
   ]
  },
  {
   "cell_type": "code",
   "execution_count": 4,
   "metadata": {},
   "outputs": [],
   "source": [
    "twitter_keys = {'consumer_key':        '',\n",
    "                'consumer_secret':     '',\n",
    "                'access_token_key':    '',\n",
    "                'access_token_secret': ''}\n",
    "\n",
    "api = twitter.Api(consumer_key         =   twitter_keys['consumer_key'],\n",
    "                  consumer_secret      =   twitter_keys['consumer_secret'],\n",
    "                  access_token_key     =   twitter_keys['access_token_key'],\n",
    "                  access_token_secret  =   twitter_keys['access_token_secret'])"
   ]
  },
  {
   "cell_type": "markdown",
   "metadata": {},
   "source": [
    "### `TweetMiner` class structure\n",
    "\n",
    "The following code will provide connectivity to Twitter. The class has the ability to make requests and can eventually transform the JSON responses into DataFrames.\n",
    "\n",
    "**Note:** \"result_limit\" is used to limit the number of tweets that are pulled per instance request.  Setting it to a lower value until the bugs are worked out of the request, and captured the data wanted, is essential to avoiding the rate limit blocks."
   ]
  },
  {
   "cell_type": "code",
   "execution_count": 5,
   "metadata": {},
   "outputs": [],
   "source": [
    "class TweetMiner(object):\n",
    "\n",
    "    result_limit    =   20    \n",
    "    api             =   False\n",
    "    data            =   []\n",
    "    \n",
    "    twitter_keys = {'consumer_key':        '',\n",
    "                    'consumer_secret':     '',\n",
    "                    'access_token_key':    '',\n",
    "                    'access_token_secret': ''}\n",
    "    \n",
    "    def __init__(self, keys_dict, api, result_limit=20):\n",
    "        \n",
    "        self.api = api\n",
    "        self.twitter_keys = keys_dict\n",
    "        self.result_limit = result_limit\n",
    "        \n",
    "    def mine_user_tweets(self, user='TWeichle', mine_retweets=False, max_pages=5):\n",
    "\n",
    "        data           =  []\n",
    "        last_tweet_id  =  False\n",
    "        page           =  1\n",
    "        \n",
    "        while page <= max_pages:\n",
    "            \n",
    "            if last_tweet_id:\n",
    "                statuses = self.api.GetUserTimeline(screen_name=user, count=self.result_limit, max_id=last_tweet_id-1)        \n",
    "            else:\n",
    "                statuses = self.api.GetUserTimeline(screen_name=user, count=self.result_limit)\n",
    "                \n",
    "            for item in statuses:\n",
    "\n",
    "                mined = {'tweet_id':        item.id,\n",
    "                         'handle':          item.user.name,\n",
    "                         'retweet_count':   item.retweet_count,\n",
    "                         'text':            item.text,\n",
    "                         'mined_at':        datetime.now(),\n",
    "                         'created_at':      item.created_at}\n",
    "                \n",
    "                last_tweet_id = item.id\n",
    "                data.append(mined)\n",
    "                \n",
    "            page += 1\n",
    "            \n",
    "        return data"
   ]
  },
  {
   "cell_type": "markdown",
   "metadata": {},
   "source": [
    "### Creating Data\n",
    "\"Mine\" data from the Twitter API.\n",
    "\n",
    "1. Mine Trump tweets\n",
    "- Create a Trump tweet DataFrame\n",
    "- Mine Pelosi tweets\n",
    "- Create a Pelosi tweet DataFrame\n",
    "- Append Trump and Pelosi tweet DataFrames"
   ]
  },
  {
   "cell_type": "code",
   "execution_count": 6,
   "metadata": {},
   "outputs": [],
   "source": [
    "# Instantiate a TweetMiner class\n",
    "# -> Pass the 'twitter_keys' dictionary and api as arguments\n",
    "#miner = TweetMiner(twitter_keys, api, result_limit=2)\n",
    "miner = TweetMiner(twitter_keys, api, result_limit=400)"
   ]
  },
  {
   "cell_type": "markdown",
   "metadata": {},
   "source": [
    "Call the TweetMiner's `mine_user_tweets()` method, providing twitter handles to pull the tweets."
   ]
  },
  {
   "cell_type": "code",
   "execution_count": 7,
   "metadata": {},
   "outputs": [],
   "source": [
    "# Mine Trump tweets\n",
    "#trump_tweets = miner.mine_user_tweets(user='realDonaldTrump', max_pages=5)\n",
    "trump_tweets = miner.mine_user_tweets(user='realDonaldTrump')"
   ]
  },
  {
   "cell_type": "code",
   "execution_count": 8,
   "metadata": {},
   "outputs": [
    {
     "data": {
      "text/plain": [
       "1000"
      ]
     },
     "execution_count": 8,
     "metadata": {},
     "output_type": "execute_result"
    }
   ],
   "source": [
    "# Count number of items in list\n",
    "len(trump_tweets)"
   ]
  },
  {
   "cell_type": "code",
   "execution_count": 9,
   "metadata": {},
   "outputs": [
    {
     "data": {
      "text/plain": [
       "{'tweet_id': 1111044654223552513,\n",
       " 'handle': 'Donald J. Trump',\n",
       " 'retweet_count': 4436,\n",
       " 'text': 'https://t.co/lGxIGgf43F',\n",
       " 'mined_at': datetime.datetime(2019, 3, 27, 16, 48, 28, 916553),\n",
       " 'created_at': 'Wed Mar 27 23:17:42 +0000 2019'}"
      ]
     },
     "execution_count": 9,
     "metadata": {},
     "output_type": "execute_result"
    }
   ],
   "source": [
    "# Display first item in list\n",
    "trump_tweets[0]"
   ]
  },
  {
   "cell_type": "code",
   "execution_count": 10,
   "metadata": {},
   "outputs": [],
   "source": [
    "# Create tweet DataFrame\n",
    "trump_df = pd.DataFrame(trump_tweets)"
   ]
  },
  {
   "cell_type": "code",
   "execution_count": 11,
   "metadata": {},
   "outputs": [
    {
     "name": "stdout",
     "output_type": "stream",
     "text": [
      "Rows: 1000, Cols: 6\n"
     ]
    }
   ],
   "source": [
    "# Return the number of rows and columns (dimensionality) of the DataFrame\n",
    "print('Rows: {}, Cols: {}'.format(trump_df.shape[0], trump_df.shape[1]))"
   ]
  },
  {
   "cell_type": "code",
   "execution_count": 12,
   "metadata": {},
   "outputs": [],
   "source": [
    "# Mine Pelosi tweets\n",
    "#pelosi_tweets = miner.mine_user_tweets(user='SpeakerPelosi', max_pages=5)\n",
    "pelosi_tweets = miner.mine_user_tweets('SpeakerPelosi')"
   ]
  },
  {
   "cell_type": "code",
   "execution_count": 13,
   "metadata": {},
   "outputs": [
    {
     "data": {
      "text/plain": [
       "1000"
      ]
     },
     "execution_count": 13,
     "metadata": {},
     "output_type": "execute_result"
    }
   ],
   "source": [
    "# Count number of items in list\n",
    "len(pelosi_tweets)"
   ]
  },
  {
   "cell_type": "code",
   "execution_count": 14,
   "metadata": {},
   "outputs": [
    {
     "data": {
      "text/plain": [
       "{'tweet_id': 1111050874204422144,\n",
       " 'handle': 'Nancy Pelosi',\n",
       " 'retweet_count': 222,\n",
       " 'text': 'Over the course of her working life, the average American woman loses $400,000 to the wage gap. Today, the House to… https://t.co/nBqMTL800o',\n",
       " 'mined_at': datetime.datetime(2019, 3, 27, 16, 48, 30, 626849),\n",
       " 'created_at': 'Wed Mar 27 23:42:25 +0000 2019'}"
      ]
     },
     "execution_count": 14,
     "metadata": {},
     "output_type": "execute_result"
    }
   ],
   "source": [
    "# Display first item in list\n",
    "pelosi_tweets[0]"
   ]
  },
  {
   "cell_type": "code",
   "execution_count": 15,
   "metadata": {},
   "outputs": [],
   "source": [
    "# Create tweet DataFrame\n",
    "pelosi_df = pd.DataFrame(pelosi_tweets)"
   ]
  },
  {
   "cell_type": "code",
   "execution_count": 16,
   "metadata": {},
   "outputs": [
    {
     "name": "stdout",
     "output_type": "stream",
     "text": [
      "Rows: 1000, Cols: 6\n"
     ]
    }
   ],
   "source": [
    "# Return the number of rows and columns (dimensionality) of the DataFrame\n",
    "print('Rows: {}, Cols: {}'.format(pelosi_df.shape[0], pelosi_df.shape[1]))"
   ]
  },
  {
   "cell_type": "code",
   "execution_count": 17,
   "metadata": {},
   "outputs": [],
   "source": [
    "# Concatenate DataFrames\n",
    "# Note: axis=0 for rows, axis=1 for columns\n",
    "#       ignore_index=False\n",
    "tweets = pd.concat([trump_df, pelosi_df], axis=0, ignore_index=True)"
   ]
  },
  {
   "cell_type": "markdown",
   "metadata": {},
   "source": [
    "### Examine the DataFrame"
   ]
  },
  {
   "cell_type": "code",
   "execution_count": 18,
   "metadata": {},
   "outputs": [
    {
     "name": "stdout",
     "output_type": "stream",
     "text": [
      "Rows: 2000, Cols: 6\n"
     ]
    }
   ],
   "source": [
    "# Return the number of rows and columns (dimensionality) of the DataFrame\n",
    "print('Rows: {}, Cols: {}'.format(tweets.shape[0], tweets.shape[1]))"
   ]
  },
  {
   "cell_type": "code",
   "execution_count": 19,
   "metadata": {},
   "outputs": [
    {
     "name": "stdout",
     "output_type": "stream",
     "text": [
      "<class 'pandas.core.frame.DataFrame'>\n",
      "RangeIndex: 2000 entries, 0 to 1999\n",
      "Data columns (total 6 columns):\n",
      "created_at       2000 non-null object\n",
      "handle           2000 non-null object\n",
      "mined_at         2000 non-null datetime64[ns]\n",
      "retweet_count    2000 non-null int64\n",
      "text             2000 non-null object\n",
      "tweet_id         2000 non-null int64\n",
      "dtypes: datetime64[ns](1), int64(2), object(3)\n",
      "memory usage: 93.8+ KB\n"
     ]
    }
   ],
   "source": [
    "# Print a concise summary of a DataFrame including the index dtype and column dtypes, non-null values, and memory usage\n",
    "# Note: Useful to quickly see if null values exist \n",
    "tweets.info()"
   ]
  },
  {
   "cell_type": "code",
   "execution_count": 20,
   "metadata": {},
   "outputs": [
    {
     "data": {
      "text/html": [
       "<div>\n",
       "<style scoped>\n",
       "    .dataframe tbody tr th:only-of-type {\n",
       "        vertical-align: middle;\n",
       "    }\n",
       "\n",
       "    .dataframe tbody tr th {\n",
       "        vertical-align: top;\n",
       "    }\n",
       "\n",
       "    .dataframe thead th {\n",
       "        text-align: right;\n",
       "    }\n",
       "</style>\n",
       "<table border=\"1\" class=\"dataframe\">\n",
       "  <thead>\n",
       "    <tr style=\"text-align: right;\">\n",
       "      <th></th>\n",
       "      <th>created_at</th>\n",
       "      <th>handle</th>\n",
       "      <th>mined_at</th>\n",
       "      <th>retweet_count</th>\n",
       "      <th>text</th>\n",
       "      <th>tweet_id</th>\n",
       "    </tr>\n",
       "  </thead>\n",
       "  <tbody>\n",
       "    <tr>\n",
       "      <th>0</th>\n",
       "      <td>Wed Mar 27 23:17:42 +0000 2019</td>\n",
       "      <td>Donald J. Trump</td>\n",
       "      <td>2019-03-27 16:48:28.916553</td>\n",
       "      <td>4436</td>\n",
       "      <td>https://t.co/lGxIGgf43F</td>\n",
       "      <td>1111044654223552513</td>\n",
       "    </tr>\n",
       "    <tr>\n",
       "      <th>1</th>\n",
       "      <td>Wed Mar 27 21:30:32 +0000 2019</td>\n",
       "      <td>Donald J. Trump</td>\n",
       "      <td>2019-03-27 16:48:28.916560</td>\n",
       "      <td>5673</td>\n",
       "      <td>RT @seanhannity: #HANNITY EXCLUSIVE TONIGHT: O...</td>\n",
       "      <td>1111017686987956227</td>\n",
       "    </tr>\n",
       "    <tr>\n",
       "      <th>2</th>\n",
       "      <td>Wed Mar 27 20:48:47 +0000 2019</td>\n",
       "      <td>Donald J. Trump</td>\n",
       "      <td>2019-03-27 16:48:28.916562</td>\n",
       "      <td>9636</td>\n",
       "      <td>We are here today to award America’s highest m...</td>\n",
       "      <td>1111007177190375424</td>\n",
       "    </tr>\n",
       "    <tr>\n",
       "      <th>3</th>\n",
       "      <td>Wed Mar 27 19:38:55 +0000 2019</td>\n",
       "      <td>Donald J. Trump</td>\n",
       "      <td>2019-03-27 16:48:28.916563</td>\n",
       "      <td>7783</td>\n",
       "      <td>....Also discussed political fairness and vari...</td>\n",
       "      <td>1110989595758469120</td>\n",
       "    </tr>\n",
       "    <tr>\n",
       "      <th>4</th>\n",
       "      <td>Wed Mar 27 19:38:55 +0000 2019</td>\n",
       "      <td>Donald J. Trump</td>\n",
       "      <td>2019-03-27 16:48:28.916564</td>\n",
       "      <td>9737</td>\n",
       "      <td>Just met with @SundarPichai, President of @Goo...</td>\n",
       "      <td>1110989594521026561</td>\n",
       "    </tr>\n",
       "    <tr>\n",
       "      <th>1995</th>\n",
       "      <td>Wed Jun 20 12:22:15 +0000 2018</td>\n",
       "      <td>Nancy Pelosi</td>\n",
       "      <td>2019-03-27 16:48:31.930454</td>\n",
       "      <td>642</td>\n",
       "      <td>RT @RepJohnYarmuth: Today @HouseBudgetGOP are ...</td>\n",
       "      <td>1009411100712960002</td>\n",
       "    </tr>\n",
       "    <tr>\n",
       "      <th>1996</th>\n",
       "      <td>Tue Jun 19 18:47:04 +0000 2018</td>\n",
       "      <td>Nancy Pelosi</td>\n",
       "      <td>2019-03-27 16:48:31.930456</td>\n",
       "      <td>201</td>\n",
       "      <td>Wishing everyone a very happy #Juneteenth2018!...</td>\n",
       "      <td>1009145559012306944</td>\n",
       "    </tr>\n",
       "    <tr>\n",
       "      <th>1997</th>\n",
       "      <td>Tue Jun 19 18:08:02 +0000 2018</td>\n",
       "      <td>Nancy Pelosi</td>\n",
       "      <td>2019-03-27 16:48:31.930457</td>\n",
       "      <td>318</td>\n",
       "      <td>All Americans must ask, why do Republicans bel...</td>\n",
       "      <td>1009135735985917952</td>\n",
       "    </tr>\n",
       "    <tr>\n",
       "      <th>1998</th>\n",
       "      <td>Tue Jun 19 18:08:02 +0000 2018</td>\n",
       "      <td>Nancy Pelosi</td>\n",
       "      <td>2019-03-27 16:48:31.930458</td>\n",
       "      <td>272</td>\n",
       "      <td>The atrocity of family separation is not about...</td>\n",
       "      <td>1009135734912151552</td>\n",
       "    </tr>\n",
       "    <tr>\n",
       "      <th>1999</th>\n",
       "      <td>Tue Jun 19 18:08:02 +0000 2018</td>\n",
       "      <td>Nancy Pelosi</td>\n",
       "      <td>2019-03-27 16:48:31.930459</td>\n",
       "      <td>1251</td>\n",
       "      <td>Every day that Congressional Republicans allow...</td>\n",
       "      <td>1009135734081703936</td>\n",
       "    </tr>\n",
       "  </tbody>\n",
       "</table>\n",
       "</div>"
      ],
      "text/plain": [
       "                          created_at           handle  \\\n",
       "0     Wed Mar 27 23:17:42 +0000 2019  Donald J. Trump   \n",
       "1     Wed Mar 27 21:30:32 +0000 2019  Donald J. Trump   \n",
       "2     Wed Mar 27 20:48:47 +0000 2019  Donald J. Trump   \n",
       "3     Wed Mar 27 19:38:55 +0000 2019  Donald J. Trump   \n",
       "4     Wed Mar 27 19:38:55 +0000 2019  Donald J. Trump   \n",
       "1995  Wed Jun 20 12:22:15 +0000 2018     Nancy Pelosi   \n",
       "1996  Tue Jun 19 18:47:04 +0000 2018     Nancy Pelosi   \n",
       "1997  Tue Jun 19 18:08:02 +0000 2018     Nancy Pelosi   \n",
       "1998  Tue Jun 19 18:08:02 +0000 2018     Nancy Pelosi   \n",
       "1999  Tue Jun 19 18:08:02 +0000 2018     Nancy Pelosi   \n",
       "\n",
       "                       mined_at  retweet_count  \\\n",
       "0    2019-03-27 16:48:28.916553           4436   \n",
       "1    2019-03-27 16:48:28.916560           5673   \n",
       "2    2019-03-27 16:48:28.916562           9636   \n",
       "3    2019-03-27 16:48:28.916563           7783   \n",
       "4    2019-03-27 16:48:28.916564           9737   \n",
       "1995 2019-03-27 16:48:31.930454            642   \n",
       "1996 2019-03-27 16:48:31.930456            201   \n",
       "1997 2019-03-27 16:48:31.930457            318   \n",
       "1998 2019-03-27 16:48:31.930458            272   \n",
       "1999 2019-03-27 16:48:31.930459           1251   \n",
       "\n",
       "                                                   text             tweet_id  \n",
       "0                               https://t.co/lGxIGgf43F  1111044654223552513  \n",
       "1     RT @seanhannity: #HANNITY EXCLUSIVE TONIGHT: O...  1111017686987956227  \n",
       "2     We are here today to award America’s highest m...  1111007177190375424  \n",
       "3     ....Also discussed political fairness and vari...  1110989595758469120  \n",
       "4     Just met with @SundarPichai, President of @Goo...  1110989594521026561  \n",
       "1995  RT @RepJohnYarmuth: Today @HouseBudgetGOP are ...  1009411100712960002  \n",
       "1996  Wishing everyone a very happy #Juneteenth2018!...  1009145559012306944  \n",
       "1997  All Americans must ask, why do Republicans bel...  1009135735985917952  \n",
       "1998  The atrocity of family separation is not about...  1009135734912151552  \n",
       "1999  Every day that Congressional Republicans allow...  1009135734081703936  "
      ]
     },
     "execution_count": 20,
     "metadata": {},
     "output_type": "execute_result"
    }
   ],
   "source": [
    "# Print the first 5 rows and the last 5 rows of the DataFrame\n",
    "tweets.head().append(tweets.tail())"
   ]
  },
  {
   "cell_type": "markdown",
   "metadata": {},
   "source": [
    "#### TextBlob: Simplified Text Processing\n",
    "[TextBlob](https://textblob.readthedocs.io/en/dev/) is a Python library for processing textual data. It provides a simple API for diving into common natural language processing (NLP) tasks such as part-of-speech tagging, noun phrase extraction, sentiment analysis, classification, translation, and more."
   ]
  },
  {
   "cell_type": "code",
   "execution_count": 21,
   "metadata": {},
   "outputs": [
    {
     "name": "stdout",
     "output_type": "stream",
     "text": [
      "RT @seanhannity: #HANNITY EXCLUSIVE TONIGHT: One-on-one with @realdonaldtrump — the President’s first interview since Mueller found no coll…\n"
     ]
    }
   ],
   "source": [
    "# Print the second tweet\n",
    "print(tweets.text[1])"
   ]
  },
  {
   "cell_type": "code",
   "execution_count": 22,
   "metadata": {},
   "outputs": [],
   "source": [
    "# A general text block, meant for larger bodies of text (especially those containing sentences)\n",
    "tweet_1 = TextBlob(tweets.text.values[1])"
   ]
  },
  {
   "cell_type": "code",
   "execution_count": 23,
   "metadata": {},
   "outputs": [
    {
     "data": {
      "text/plain": [
       "WordList(['RT', 'seanhannity', 'HANNITY', 'EXCLUSIVE', 'TONIGHT', 'One-on-one', 'with', 'realdonaldtrump', '—', 'the', 'President', '’', 's', 'first', 'interview', 'since', 'Mueller', 'found', 'no', 'coll…'])"
      ]
     },
     "execution_count": 23,
     "metadata": {},
     "output_type": "execute_result"
    }
   ],
   "source": [
    "# A list-like collection of words\n",
    "tweet_1.words"
   ]
  },
  {
   "cell_type": "code",
   "execution_count": 24,
   "metadata": {},
   "outputs": [
    {
     "data": {
      "text/plain": [
       "[Sentence(\"RT @seanhannity: #HANNITY EXCLUSIVE TONIGHT: One-on-one with @realdonaldtrump — the President’s first interview since Mueller found no coll…\")]"
      ]
     },
     "execution_count": 24,
     "metadata": {},
     "output_type": "execute_result"
    }
   ],
   "source": [
    "# A list-like collection of sentences\n",
    "tweet_1.sentences"
   ]
  },
  {
   "cell_type": "code",
   "execution_count": 25,
   "metadata": {},
   "outputs": [
    {
     "data": {
      "text/plain": [
       "TextBlob(\"rt @seanhannity: #hannity exclusive tonight: one-on-one with @realdonaldtrump — the president’s first interview since mueller found no coll…\")"
      ]
     },
     "execution_count": 25,
     "metadata": {},
     "output_type": "execute_result"
    }
   ],
   "source": [
    "# Returns new object with all lower-cased characters\n",
    "tweet_1.lower()"
   ]
  },
  {
   "cell_type": "markdown",
   "metadata": {},
   "source": [
    "### Handling Missing Values"
   ]
  },
  {
   "cell_type": "code",
   "execution_count": 26,
   "metadata": {},
   "outputs": [
    {
     "data": {
      "text/plain": [
       "created_at       0\n",
       "handle           0\n",
       "mined_at         0\n",
       "retweet_count    0\n",
       "text             0\n",
       "tweet_id         0\n",
       "dtype: int64"
      ]
     },
     "execution_count": 26,
     "metadata": {},
     "output_type": "execute_result"
    }
   ],
   "source": [
    "# Count the missing values in each column of a DataFrame - sum() works because True is 1 and False is 0\n",
    "tweets.isnull().sum()"
   ]
  },
  {
   "cell_type": "code",
   "execution_count": 27,
   "metadata": {},
   "outputs": [
    {
     "data": {
      "image/png": "[encoded data removed]",
      "text/plain": [
       "<Figure size 720x576 with 1 Axes>"
      ]
     },
     "metadata": {},
     "output_type": "display_data"
    }
   ],
   "source": [
    "# Create a vertical bar plot by number of missing values per column using matplotlib\n",
    "# Note: figsize: a tuple (width, height) in inches\n",
    "tweets.isnull().sum().plot.bar(figsize=(10, 8));\n",
    "plt.title('Number of null values per column');"
   ]
  },
  {
   "cell_type": "markdown",
   "metadata": {},
   "source": [
    "### Summarize the DataFrame"
   ]
  },
  {
   "cell_type": "code",
   "execution_count": 28,
   "metadata": {},
   "outputs": [
    {
     "data": {
      "text/html": [
       "<div>\n",
       "<style scoped>\n",
       "    .dataframe tbody tr th:only-of-type {\n",
       "        vertical-align: middle;\n",
       "    }\n",
       "\n",
       "    .dataframe tbody tr th {\n",
       "        vertical-align: top;\n",
       "    }\n",
       "\n",
       "    .dataframe thead th {\n",
       "        text-align: right;\n",
       "    }\n",
       "</style>\n",
       "<table border=\"1\" class=\"dataframe\">\n",
       "  <thead>\n",
       "    <tr style=\"text-align: right;\">\n",
       "      <th></th>\n",
       "      <th>retweet_count</th>\n",
       "      <th>tweet_id</th>\n",
       "    </tr>\n",
       "  </thead>\n",
       "  <tbody>\n",
       "    <tr>\n",
       "      <th>count</th>\n",
       "      <td>2000.000000</td>\n",
       "      <td>2.000000e+03</td>\n",
       "    </tr>\n",
       "    <tr>\n",
       "      <th>mean</th>\n",
       "      <td>13373.082500</td>\n",
       "      <td>1.078043e+18</td>\n",
       "    </tr>\n",
       "    <tr>\n",
       "      <th>std</th>\n",
       "      <td>13660.242065</td>\n",
       "      <td>2.982935e+16</td>\n",
       "    </tr>\n",
       "    <tr>\n",
       "      <th>min</th>\n",
       "      <td>17.000000</td>\n",
       "      <td>1.009136e+18</td>\n",
       "    </tr>\n",
       "    <tr>\n",
       "      <th>25%</th>\n",
       "      <td>1110.500000</td>\n",
       "      <td>1.061661e+18</td>\n",
       "    </tr>\n",
       "    <tr>\n",
       "      <th>50%</th>\n",
       "      <td>9559.000000</td>\n",
       "      <td>1.087151e+18</td>\n",
       "    </tr>\n",
       "    <tr>\n",
       "      <th>75%</th>\n",
       "      <td>22656.000000</td>\n",
       "      <td>1.101193e+18</td>\n",
       "    </tr>\n",
       "    <tr>\n",
       "      <th>max</th>\n",
       "      <td>95596.000000</td>\n",
       "      <td>1.111051e+18</td>\n",
       "    </tr>\n",
       "  </tbody>\n",
       "</table>\n",
       "</div>"
      ],
      "text/plain": [
       "       retweet_count      tweet_id\n",
       "count    2000.000000  2.000000e+03\n",
       "mean    13373.082500  1.078043e+18\n",
       "std     13660.242065  2.982935e+16\n",
       "min        17.000000  1.009136e+18\n",
       "25%      1110.500000  1.061661e+18\n",
       "50%      9559.000000  1.087151e+18\n",
       "75%     22656.000000  1.101193e+18\n",
       "max     95596.000000  1.111051e+18"
      ]
     },
     "execution_count": 28,
     "metadata": {},
     "output_type": "execute_result"
    }
   ],
   "source": [
    "# Describe numeric columns\n",
    "# Generates descriptive summary statistics of the central tendency, dispersion, and shape of the distribution\n",
    "# Note: By default only numeric (int64) fields are returned\n",
    "#       Excludes \"NaN\" (missing) values\n",
    "# Remove multiple columns\n",
    "# Note: axis=0 for rows, 1 for columns\n",
    "tweets.describe()"
   ]
  },
  {
   "cell_type": "code",
   "execution_count": 29,
   "metadata": {},
   "outputs": [
    {
     "data": {
      "text/html": [
       "<div>\n",
       "<style scoped>\n",
       "    .dataframe tbody tr th:only-of-type {\n",
       "        vertical-align: middle;\n",
       "    }\n",
       "\n",
       "    .dataframe tbody tr th {\n",
       "        vertical-align: top;\n",
       "    }\n",
       "\n",
       "    .dataframe thead th {\n",
       "        text-align: right;\n",
       "    }\n",
       "</style>\n",
       "<table border=\"1\" class=\"dataframe\">\n",
       "  <thead>\n",
       "    <tr style=\"text-align: right;\">\n",
       "      <th></th>\n",
       "      <th>created_at</th>\n",
       "      <th>handle</th>\n",
       "      <th>text</th>\n",
       "    </tr>\n",
       "  </thead>\n",
       "  <tbody>\n",
       "    <tr>\n",
       "      <th>count</th>\n",
       "      <td>2000</td>\n",
       "      <td>2000</td>\n",
       "      <td>2000</td>\n",
       "    </tr>\n",
       "    <tr>\n",
       "      <th>unique</th>\n",
       "      <td>1937</td>\n",
       "      <td>2</td>\n",
       "      <td>1995</td>\n",
       "    </tr>\n",
       "    <tr>\n",
       "      <th>top</th>\n",
       "      <td>Sat Dec 22 14:44:28 +0000 2018</td>\n",
       "      <td>Donald J. Trump</td>\n",
       "      <td>MAKE AMERICA GREAT AGAIN!</td>\n",
       "    </tr>\n",
       "    <tr>\n",
       "      <th>freq</th>\n",
       "      <td>4</td>\n",
       "      <td>1000</td>\n",
       "      <td>5</td>\n",
       "    </tr>\n",
       "  </tbody>\n",
       "</table>\n",
       "</div>"
      ],
      "text/plain": [
       "                            created_at           handle  \\\n",
       "count                             2000             2000   \n",
       "unique                            1937                2   \n",
       "top     Sat Dec 22 14:44:28 +0000 2018  Donald J. Trump   \n",
       "freq                                 4             1000   \n",
       "\n",
       "                             text  \n",
       "count                        2000  \n",
       "unique                       1995  \n",
       "top     MAKE AMERICA GREAT AGAIN!  \n",
       "freq                            5  "
      ]
     },
     "execution_count": 29,
     "metadata": {},
     "output_type": "execute_result"
    }
   ],
   "source": [
    "# Describe object columns (e.g. categorical, strings, or timestamps)\n",
    "# Generates descriptive summary statistics of the count, unique values, top values, and frequency\n",
    "# Note: \"top\" is the most common value; \"freq\" is the most common value's frequency\n",
    "#       Excludes \"NaN\" (missing) values\n",
    "# Remove multiple columns\n",
    "# Note: axis=0 for rows, 1 for columns\n",
    "tweets.describe(include='object')"
   ]
  },
  {
   "cell_type": "code",
   "execution_count": 30,
   "metadata": {},
   "outputs": [
    {
     "data": {
      "text/plain": [
       "Donald J. Trump    1000\n",
       "Nancy Pelosi       1000\n",
       "Name: handle, dtype: int64"
      ]
     },
     "execution_count": 30,
     "metadata": {},
     "output_type": "execute_result"
    }
   ],
   "source": [
    "# Categorical column frequency\n",
    "# Returns counts of unique values in descending order (first element is the most frequently-occurring element)\n",
    "# Note: Excludes NA values by default\n",
    "tweets.handle.value_counts()"
   ]
  },
  {
   "cell_type": "markdown",
   "metadata": {},
   "source": [
    "#### Create indicator for whether a tweet was from Donald Trump"
   ]
  },
  {
   "cell_type": "code",
   "execution_count": 31,
   "metadata": {},
   "outputs": [],
   "source": [
    "# Lambda function: apply an arbitrary function to each value of a Pandas column, storing the result in a new column\n",
    "tweets['trump_handle'] = tweets.handle.apply(lambda handle: 1 if handle == 'Donald J. Trump' else 0)"
   ]
  },
  {
   "cell_type": "markdown",
   "metadata": {},
   "source": [
    "### Any interesting n-grams for Donald Trump?\n",
    "\n",
    "- Set up a vectorizer from sklearn\n",
    "- Fit the text of Trump's tweets with an n-gram range from 2 to 4\n",
    "- Determine the most common n-grams\n",
    "\n",
    "**Note:** How does keeping or removing stopwords affect the results?\n",
    "\n",
    "Keeping stopwords will result in many more common n-grams containing stop words -> REMOVE STOPWORDS"
   ]
  },
  {
   "cell_type": "code",
   "execution_count": 32,
   "metadata": {},
   "outputs": [],
   "source": [
    "# Instantiate TfidfVectorizer to convert a collection of raw documents to a matrix of TF-IDF features\n",
    "# -> Equivalent to CountVectorizer followed by TfidfTransformer\n",
    "# Note: stop_words: if a string, it is passed to _check_stop_list and the appropriate stop list is returned;\n",
    "#                   'english' is currently the only supported string value\n",
    "#       ngram_range: tuple (min_n, max_n); the lower and upper boundary of the range of n-values for \n",
    "#                    different n-grams to be extracted; all values of n such that min_n <= n <= max_n will be used\n",
    "vect = TfidfVectorizer(stop_words='english', ngram_range=(2, 4))"
   ]
  },
  {
   "cell_type": "code",
   "execution_count": 33,
   "metadata": {},
   "outputs": [
    {
     "data": {
      "text/plain": [
       "[('border security', 35),\n",
       " ('fake news', 31),\n",
       " ('president trump', 25),\n",
       " ('united states', 24),\n",
       " ('southern border', 24),\n",
       " ('rt realdonaldtrump', 17),\n",
       " ('rt whitehouse', 15),\n",
       " ('america great', 12),\n",
       " ('rt gopchairwoman', 11),\n",
       " ('michael cohen', 11),\n",
       " ('border https', 11),\n",
       " ('kim jong', 11),\n",
       " ('news media', 10),\n",
       " ('approval rating', 10),\n",
       " ('north korea', 10),\n",
       " ('fake news media', 10),\n",
       " ('great people', 9),\n",
       " ('security wall', 9),\n",
       " ('rt paulsperry_', 9),\n",
       " ('new book', 9)]"
      ]
     },
     "execution_count": 33,
     "metadata": {},
     "output_type": "execute_result"
    }
   ],
   "source": [
    "# Pulls all of Trump's tweet texts into one giant string\n",
    "summaries = \"\".join(trump_df.text)\n",
    "\n",
    "# Return a callable that handles preprocessing and tokenization\n",
    "ngrams_summaries = vect.build_analyzer()(summaries)\n",
    "\n",
    "# Dict subclass for counting hashable items; sometimes called a bag or multiset\n",
    "# -> Elements are stored as dictionary keys and their counts are stored as dictionary values\n",
    "# 20 most common elements\n",
    "Counter(ngrams_summaries).most_common(20)"
   ]
  },
  {
   "cell_type": "markdown",
   "metadata": {},
   "source": [
    "### Any interesting n-grams for Nancy Pelosi?"
   ]
  },
  {
   "cell_type": "code",
   "execution_count": 34,
   "metadata": {},
   "outputs": [],
   "source": [
    "# Instantiate TfidfVectorizer to convert a collection of raw documents to a matrix of TF-IDF features\n",
    "# -> Equivalent to CountVectorizer followed by TfidfTransformer\n",
    "# Note: stop_words: if a string, it is passed to _check_stop_list and the appropriate stop list is returned;\n",
    "#                   'english' is currently the only supported string value\n",
    "#       ngram_range: tuple (min_n, max_n); the lower and upper boundary of the range of n-values for \n",
    "#                    different n-grams to be extracted; all values of n such that min_n <= n <= max_n will be used\n",
    "vect = TfidfVectorizer(stop_words='english', ngram_range=(2, 4))"
   ]
  },
  {
   "cell_type": "code",
   "execution_count": 35,
   "metadata": {},
   "outputs": [
    {
     "data": {
      "text/plain": [
       "[('health care', 31),\n",
       " ('pre existing', 30),\n",
       " ('trump admin', 22),\n",
       " ('american people', 20),\n",
       " ('speaking reporters', 20),\n",
       " ('live capitol', 19),\n",
       " ('trump administration', 17),\n",
       " ('existing conditions', 17),\n",
       " ('pre existing conditions', 17),\n",
       " ('reporters live', 16),\n",
       " ('tune https', 16),\n",
       " ('reporters live capitol', 16),\n",
       " ('working families', 15),\n",
       " ('supreme court', 15),\n",
       " ('amp https', 14),\n",
       " ('forthepeople act', 12),\n",
       " ('speaking reporters live', 12),\n",
       " ('speaking reporters live capitol', 12),\n",
       " ('press conference', 11),\n",
       " ('10 45', 10)]"
      ]
     },
     "execution_count": 35,
     "metadata": {},
     "output_type": "execute_result"
    }
   ],
   "source": [
    "# Pulls all of Trump's tweet texts into one giant string\n",
    "summaries = \"\".join(pelosi_df.text)\n",
    "\n",
    "# Return a callable that handles preprocessing and tokenization\n",
    "ngrams_summaries = vect.build_analyzer()(summaries)\n",
    "\n",
    "# Dict subclass for counting hashable items; sometimes called a bag or multiset\n",
    "# -> Elements are stored as dictionary keys and their counts are stored as dictionary values\n",
    "# 20 most common elements\n",
    "Counter(ngrams_summaries).most_common(20)"
   ]
  },
  {
   "cell_type": "markdown",
   "metadata": {
    "slideshow": {
     "slide_type": "slide"
    }
   },
   "source": [
    "### Sentiment Analysis\n",
    "\n",
    "Understanding how positive or negative a document (piece of text) is. There are many ways in practice to compute a sentiment value. For example:\n",
    "- Have a list of \"positive\" words and a list of \"negative\" words and count how many occur in a document. \n",
    "- Train a classifier given many examples of \"positive\" documents and \"negative\" documents. \n",
    "    - Note that this technique is often just an automated way to derive the first (e.g., using bag-of-words with logistic regression, a coefficient is assigned to each word!).\n",
    "\n",
    "For the most accurate sentiment analysis, train a custom sentiment model based on documents that are particular to the application. Generic models often do not work as well as hoped.\n",
    "\n",
    "Always make sure to double-check that the algorithm is working by manually verifying that scores correctly correspond to positive/negative reviews! Otherwise, you may be using numbers that are not accurate."
   ]
  },
  {
   "cell_type": "markdown",
   "metadata": {},
   "source": [
    "#### Extract sentiment from a tweet parsed with TextBlob"
   ]
  },
  {
   "cell_type": "code",
   "execution_count": 36,
   "metadata": {
    "slideshow": {
     "slide_type": "subslide"
    }
   },
   "outputs": [
    {
     "name": "stdout",
     "output_type": "stream",
     "text": [
      "RT @seanhannity: #HANNITY EXCLUSIVE TONIGHT: One-on-one with @realdonaldtrump — the President’s first interview since Mueller found no coll…\n"
     ]
    }
   ],
   "source": [
    "print(tweet_1)"
   ]
  },
  {
   "cell_type": "code",
   "execution_count": 37,
   "metadata": {
    "slideshow": {
     "slide_type": "subslide"
    }
   },
   "outputs": [
    {
     "name": "stdout",
     "output_type": "stream",
     "text": [
      "Sentiment Polarity: 0.25\n"
     ]
    }
   ],
   "source": [
    "# Polarity ranges from -1 (most negative) to 1 (most positive)\n",
    "print('Sentiment Polarity:', round(tweet_1.sentiment.polarity, 3))"
   ]
  },
  {
   "cell_type": "markdown",
   "metadata": {},
   "source": [
    "#### Calculate the sentiment for every tweet in the full tweets dataset as a new column"
   ]
  },
  {
   "cell_type": "code",
   "execution_count": 38,
   "metadata": {},
   "outputs": [],
   "source": [
    "# Define a function that accepts text and returns the polarity\n",
    "# -> Polarity ranges from -1 (most negative) to 1 (most positive)\n",
    "def detect_sentiment(text):\n",
    "    return TextBlob(text).sentiment.polarity"
   ]
  },
  {
   "cell_type": "code",
   "execution_count": 39,
   "metadata": {
    "slideshow": {
     "slide_type": "subslide"
    }
   },
   "outputs": [
    {
     "data": {
      "text/html": [
       "<div>\n",
       "<style scoped>\n",
       "    .dataframe tbody tr th:only-of-type {\n",
       "        vertical-align: middle;\n",
       "    }\n",
       "\n",
       "    .dataframe tbody tr th {\n",
       "        vertical-align: top;\n",
       "    }\n",
       "\n",
       "    .dataframe thead th {\n",
       "        text-align: right;\n",
       "    }\n",
       "</style>\n",
       "<table border=\"1\" class=\"dataframe\">\n",
       "  <thead>\n",
       "    <tr style=\"text-align: right;\">\n",
       "      <th></th>\n",
       "      <th>created_at</th>\n",
       "      <th>handle</th>\n",
       "      <th>mined_at</th>\n",
       "      <th>retweet_count</th>\n",
       "      <th>text</th>\n",
       "      <th>tweet_id</th>\n",
       "      <th>trump_handle</th>\n",
       "      <th>sentiment</th>\n",
       "    </tr>\n",
       "  </thead>\n",
       "  <tbody>\n",
       "    <tr>\n",
       "      <th>0</th>\n",
       "      <td>Wed Mar 27 23:17:42 +0000 2019</td>\n",
       "      <td>Donald J. Trump</td>\n",
       "      <td>2019-03-27 16:48:28.916553</td>\n",
       "      <td>4436</td>\n",
       "      <td>https://t.co/lGxIGgf43F</td>\n",
       "      <td>1111044654223552513</td>\n",
       "      <td>1</td>\n",
       "      <td>0.000000</td>\n",
       "    </tr>\n",
       "    <tr>\n",
       "      <th>1</th>\n",
       "      <td>Wed Mar 27 21:30:32 +0000 2019</td>\n",
       "      <td>Donald J. Trump</td>\n",
       "      <td>2019-03-27 16:48:28.916560</td>\n",
       "      <td>5673</td>\n",
       "      <td>RT @seanhannity: #HANNITY EXCLUSIVE TONIGHT: O...</td>\n",
       "      <td>1111017686987956227</td>\n",
       "      <td>1</td>\n",
       "      <td>0.250000</td>\n",
       "    </tr>\n",
       "    <tr>\n",
       "      <th>2</th>\n",
       "      <td>Wed Mar 27 20:48:47 +0000 2019</td>\n",
       "      <td>Donald J. Trump</td>\n",
       "      <td>2019-03-27 16:48:28.916562</td>\n",
       "      <td>9636</td>\n",
       "      <td>We are here today to award America’s highest m...</td>\n",
       "      <td>1111007177190375424</td>\n",
       "      <td>1</td>\n",
       "      <td>-0.100000</td>\n",
       "    </tr>\n",
       "    <tr>\n",
       "      <th>3</th>\n",
       "      <td>Wed Mar 27 19:38:55 +0000 2019</td>\n",
       "      <td>Donald J. Trump</td>\n",
       "      <td>2019-03-27 16:48:28.916563</td>\n",
       "      <td>7783</td>\n",
       "      <td>....Also discussed political fairness and vari...</td>\n",
       "      <td>1110989595758469120</td>\n",
       "      <td>1</td>\n",
       "      <td>0.083333</td>\n",
       "    </tr>\n",
       "    <tr>\n",
       "      <th>4</th>\n",
       "      <td>Wed Mar 27 19:38:55 +0000 2019</td>\n",
       "      <td>Donald J. Trump</td>\n",
       "      <td>2019-03-27 16:48:28.916564</td>\n",
       "      <td>9737</td>\n",
       "      <td>Just met with @SundarPichai, President of @Goo...</td>\n",
       "      <td>1110989594521026561</td>\n",
       "      <td>1</td>\n",
       "      <td>0.216667</td>\n",
       "    </tr>\n",
       "  </tbody>\n",
       "</table>\n",
       "</div>"
      ],
      "text/plain": [
       "                       created_at           handle                   mined_at  \\\n",
       "0  Wed Mar 27 23:17:42 +0000 2019  Donald J. Trump 2019-03-27 16:48:28.916553   \n",
       "1  Wed Mar 27 21:30:32 +0000 2019  Donald J. Trump 2019-03-27 16:48:28.916560   \n",
       "2  Wed Mar 27 20:48:47 +0000 2019  Donald J. Trump 2019-03-27 16:48:28.916562   \n",
       "3  Wed Mar 27 19:38:55 +0000 2019  Donald J. Trump 2019-03-27 16:48:28.916563   \n",
       "4  Wed Mar 27 19:38:55 +0000 2019  Donald J. Trump 2019-03-27 16:48:28.916564   \n",
       "\n",
       "   retweet_count                                               text  \\\n",
       "0           4436                            https://t.co/lGxIGgf43F   \n",
       "1           5673  RT @seanhannity: #HANNITY EXCLUSIVE TONIGHT: O...   \n",
       "2           9636  We are here today to award America’s highest m...   \n",
       "3           7783  ....Also discussed political fairness and vari...   \n",
       "4           9737  Just met with @SundarPichai, President of @Goo...   \n",
       "\n",
       "              tweet_id  trump_handle  sentiment  \n",
       "0  1111044654223552513             1   0.000000  \n",
       "1  1111017686987956227             1   0.250000  \n",
       "2  1111007177190375424             1  -0.100000  \n",
       "3  1110989595758469120             1   0.083333  \n",
       "4  1110989594521026561             1   0.216667  "
      ]
     },
     "execution_count": 39,
     "metadata": {},
     "output_type": "execute_result"
    }
   ],
   "source": [
    "# Create a new DataFrame column for sentiment (Warning: SLOW!)\n",
    "tweets['sentiment'] = tweets.text.apply(detect_sentiment)\n",
    "tweets.head(5)"
   ]
  },
  {
   "cell_type": "markdown",
   "metadata": {},
   "source": [
    "#### Box plot of sentiment grouped by handle"
   ]
  },
  {
   "cell_type": "code",
   "execution_count": 40,
   "metadata": {},
   "outputs": [
    {
     "data": {
      "image/png": "[encoded data removed]",
      "text/plain": [
       "<Figure size 720x432 with 1 Axes>"
      ]
     },
     "metadata": {},
     "output_type": "display_data"
    }
   ],
   "source": [
    "# Create box plots\n",
    "# Note: column: used to limit data to a subset of columns\n",
    "#       by: used to form box plots for separate groups\n",
    "#       figsize: a tuple (width, height) in inches\n",
    "tweets.boxplot(column='sentiment', by='handle', figsize=(10, 6));"
   ]
  },
  {
   "cell_type": "code",
   "execution_count": 41,
   "metadata": {
    "slideshow": {
     "slide_type": "subslide"
    }
   },
   "outputs": [
    {
     "data": {
      "text/html": [
       "<div>\n",
       "<style scoped>\n",
       "    .dataframe tbody tr th:only-of-type {\n",
       "        vertical-align: middle;\n",
       "    }\n",
       "\n",
       "    .dataframe tbody tr th {\n",
       "        vertical-align: top;\n",
       "    }\n",
       "\n",
       "    .dataframe thead th {\n",
       "        text-align: right;\n",
       "    }\n",
       "</style>\n",
       "<table border=\"1\" class=\"dataframe\">\n",
       "  <thead>\n",
       "    <tr style=\"text-align: right;\">\n",
       "      <th></th>\n",
       "      <th>handle</th>\n",
       "      <th>text</th>\n",
       "      <th>sentiment</th>\n",
       "    </tr>\n",
       "  </thead>\n",
       "  <tbody>\n",
       "    <tr>\n",
       "      <th>22</th>\n",
       "      <td>Donald J. Trump</td>\n",
       "      <td>A team of great champions! https://t.co/Pm5p9L...</td>\n",
       "      <td>1.0</td>\n",
       "    </tr>\n",
       "    <tr>\n",
       "      <th>31</th>\n",
       "      <td>Donald J. Trump</td>\n",
       "      <td>RT @realDonaldTrump: MAKE AMERICA GREAT AGAIN!</td>\n",
       "      <td>1.0</td>\n",
       "    </tr>\n",
       "    <tr>\n",
       "      <th>36</th>\n",
       "      <td>Donald J. Trump</td>\n",
       "      <td>MAKE AMERICA GREAT AGAIN!</td>\n",
       "      <td>1.0</td>\n",
       "    </tr>\n",
       "    <tr>\n",
       "      <th>47</th>\n",
       "      <td>Donald J. Trump</td>\n",
       "      <td>3.1 GDP FOR THE YEAR, BEST NUMBER IN 14 YEARS!</td>\n",
       "      <td>1.0</td>\n",
       "    </tr>\n",
       "    <tr>\n",
       "      <th>62</th>\n",
       "      <td>Donald J. Trump</td>\n",
       "      <td>Really beautiful to see! https://t.co/DKq2TIeiSs</td>\n",
       "      <td>1.0</td>\n",
       "    </tr>\n",
       "  </tbody>\n",
       "</table>\n",
       "</div>"
      ],
      "text/plain": [
       "             handle                                               text  \\\n",
       "22  Donald J. Trump  A team of great champions! https://t.co/Pm5p9L...   \n",
       "31  Donald J. Trump     RT @realDonaldTrump: MAKE AMERICA GREAT AGAIN!   \n",
       "36  Donald J. Trump                          MAKE AMERICA GREAT AGAIN!   \n",
       "47  Donald J. Trump     3.1 GDP FOR THE YEAR, BEST NUMBER IN 14 YEARS!   \n",
       "62  Donald J. Trump   Really beautiful to see! https://t.co/DKq2TIeiSs   \n",
       "\n",
       "    sentiment  \n",
       "22        1.0  \n",
       "31        1.0  \n",
       "36        1.0  \n",
       "47        1.0  \n",
       "62        1.0  "
      ]
     },
     "execution_count": 41,
     "metadata": {},
     "output_type": "execute_result"
    }
   ],
   "source": [
    "# Tweets with most positive sentiment\n",
    "tweets[tweets.sentiment == 1][['handle', 'text', 'sentiment']].head()"
   ]
  },
  {
   "cell_type": "code",
   "execution_count": 42,
   "metadata": {},
   "outputs": [
    {
     "data": {
      "text/html": [
       "<div>\n",
       "<style scoped>\n",
       "    .dataframe tbody tr th:only-of-type {\n",
       "        vertical-align: middle;\n",
       "    }\n",
       "\n",
       "    .dataframe tbody tr th {\n",
       "        vertical-align: top;\n",
       "    }\n",
       "\n",
       "    .dataframe thead th {\n",
       "        text-align: right;\n",
       "    }\n",
       "</style>\n",
       "<table border=\"1\" class=\"dataframe\">\n",
       "  <thead>\n",
       "    <tr style=\"text-align: right;\">\n",
       "      <th></th>\n",
       "      <th>handle</th>\n",
       "      <th>text</th>\n",
       "      <th>sentiment</th>\n",
       "    </tr>\n",
       "  </thead>\n",
       "  <tbody>\n",
       "    <tr>\n",
       "      <th>41</th>\n",
       "      <td>Donald J. Trump</td>\n",
       "      <td>....There is nothing to admire about them, the...</td>\n",
       "      <td>-1.0</td>\n",
       "    </tr>\n",
       "    <tr>\n",
       "      <th>496</th>\n",
       "      <td>Donald J. Trump</td>\n",
       "      <td>One year ago today, a horrific act of violence...</td>\n",
       "      <td>-1.0</td>\n",
       "    </tr>\n",
       "    <tr>\n",
       "      <th>979</th>\n",
       "      <td>Donald J. Trump</td>\n",
       "      <td>Any deaths of children or others at the Border...</td>\n",
       "      <td>-1.0</td>\n",
       "    </tr>\n",
       "    <tr>\n",
       "      <th>1082</th>\n",
       "      <td>Nancy Pelosi</td>\n",
       "      <td>.@realDonaldTrump’s revival of his bigoted, di...</td>\n",
       "      <td>-1.0</td>\n",
       "    </tr>\n",
       "    <tr>\n",
       "      <th>1093</th>\n",
       "      <td>Nancy Pelosi</td>\n",
       "      <td>The #TrumpBudget is a cruel roadmap to a sicke...</td>\n",
       "      <td>-1.0</td>\n",
       "    </tr>\n",
       "  </tbody>\n",
       "</table>\n",
       "</div>"
      ],
      "text/plain": [
       "               handle                                               text  \\\n",
       "41    Donald J. Trump  ....There is nothing to admire about them, the...   \n",
       "496   Donald J. Trump  One year ago today, a horrific act of violence...   \n",
       "979   Donald J. Trump  Any deaths of children or others at the Border...   \n",
       "1082     Nancy Pelosi  .@realDonaldTrump’s revival of his bigoted, di...   \n",
       "1093     Nancy Pelosi  The #TrumpBudget is a cruel roadmap to a sicke...   \n",
       "\n",
       "      sentiment  \n",
       "41         -1.0  \n",
       "496        -1.0  \n",
       "979        -1.0  \n",
       "1082       -1.0  \n",
       "1093       -1.0  "
      ]
     },
     "execution_count": 42,
     "metadata": {},
     "output_type": "execute_result"
    }
   ],
   "source": [
    "# Reviews with most negative sentiment\n",
    "tweets[tweets.sentiment == -1][['handle', 'text', 'sentiment']].head()"
   ]
  },
  {
   "cell_type": "code",
   "execution_count": 43,
   "metadata": {
    "slideshow": {
     "slide_type": "subslide"
    }
   },
   "outputs": [],
   "source": [
    "# Widen the column display\n",
    "pd.set_option('max_colwidth', 500)"
   ]
  },
  {
   "cell_type": "code",
   "execution_count": 44,
   "metadata": {},
   "outputs": [
    {
     "data": {
      "text/html": [
       "<div>\n",
       "<style scoped>\n",
       "    .dataframe tbody tr th:only-of-type {\n",
       "        vertical-align: middle;\n",
       "    }\n",
       "\n",
       "    .dataframe tbody tr th {\n",
       "        vertical-align: top;\n",
       "    }\n",
       "\n",
       "    .dataframe thead th {\n",
       "        text-align: right;\n",
       "    }\n",
       "</style>\n",
       "<table border=\"1\" class=\"dataframe\">\n",
       "  <thead>\n",
       "    <tr style=\"text-align: right;\">\n",
       "      <th></th>\n",
       "      <th>created_at</th>\n",
       "      <th>handle</th>\n",
       "      <th>mined_at</th>\n",
       "      <th>retweet_count</th>\n",
       "      <th>text</th>\n",
       "      <th>tweet_id</th>\n",
       "      <th>trump_handle</th>\n",
       "      <th>sentiment</th>\n",
       "    </tr>\n",
       "  </thead>\n",
       "  <tbody>\n",
       "    <tr>\n",
       "      <th>13</th>\n",
       "      <td>Tue Mar 26 20:36:53 +0000 2019</td>\n",
       "      <td>Donald J. Trump</td>\n",
       "      <td>2019-03-27 16:48:28.916577</td>\n",
       "      <td>18041</td>\n",
       "      <td>“A Catastrophic Media Failure” https://t.co/dkHo5kHwwf</td>\n",
       "      <td>1110641794621018112</td>\n",
       "      <td>1</td>\n",
       "      <td>-0.316667</td>\n",
       "    </tr>\n",
       "  </tbody>\n",
       "</table>\n",
       "</div>"
      ],
      "text/plain": [
       "                        created_at           handle  \\\n",
       "13  Tue Mar 26 20:36:53 +0000 2019  Donald J. Trump   \n",
       "\n",
       "                     mined_at  retweet_count  \\\n",
       "13 2019-03-27 16:48:28.916577          18041   \n",
       "\n",
       "                                                      text  \\\n",
       "13  “A Catastrophic Media Failure” https://t.co/dkHo5kHwwf   \n",
       "\n",
       "               tweet_id  trump_handle  sentiment  \n",
       "13  1110641794621018112             1  -0.316667  "
      ]
     },
     "execution_count": 44,
     "metadata": {},
     "output_type": "execute_result"
    }
   ],
   "source": [
    "# Negative sentiment in a Trump tweet\n",
    "tweets[(tweets.handle == 'Donald J. Trump') & (tweets.sentiment < -0.3)].head(1)"
   ]
  },
  {
   "cell_type": "code",
   "execution_count": 45,
   "metadata": {
    "slideshow": {
     "slide_type": "subslide"
    }
   },
   "outputs": [
    {
     "data": {
      "text/html": [
       "<div>\n",
       "<style scoped>\n",
       "    .dataframe tbody tr th:only-of-type {\n",
       "        vertical-align: middle;\n",
       "    }\n",
       "\n",
       "    .dataframe tbody tr th {\n",
       "        vertical-align: top;\n",
       "    }\n",
       "\n",
       "    .dataframe thead th {\n",
       "        text-align: right;\n",
       "    }\n",
       "</style>\n",
       "<table border=\"1\" class=\"dataframe\">\n",
       "  <thead>\n",
       "    <tr style=\"text-align: right;\">\n",
       "      <th></th>\n",
       "      <th>created_at</th>\n",
       "      <th>handle</th>\n",
       "      <th>mined_at</th>\n",
       "      <th>retweet_count</th>\n",
       "      <th>text</th>\n",
       "      <th>tweet_id</th>\n",
       "      <th>trump_handle</th>\n",
       "      <th>sentiment</th>\n",
       "    </tr>\n",
       "  </thead>\n",
       "  <tbody>\n",
       "    <tr>\n",
       "      <th>1012</th>\n",
       "      <td>Tue Mar 26 18:59:49 +0000 2019</td>\n",
       "      <td>Nancy Pelosi</td>\n",
       "      <td>2019-03-27 16:48:30.626870</td>\n",
       "      <td>739</td>\n",
       "      <td>RT @RepShalala: Proud to stand with @SpeakerPelosi and @HouseDemocrats as we introduce legislation to protect Americans from junk plans, st…</td>\n",
       "      <td>1110617367330148353</td>\n",
       "      <td>0</td>\n",
       "      <td>0.8</td>\n",
       "    </tr>\n",
       "  </tbody>\n",
       "</table>\n",
       "</div>"
      ],
      "text/plain": [
       "                          created_at        handle                   mined_at  \\\n",
       "1012  Tue Mar 26 18:59:49 +0000 2019  Nancy Pelosi 2019-03-27 16:48:30.626870   \n",
       "\n",
       "      retweet_count  \\\n",
       "1012            739   \n",
       "\n",
       "                                                                                                                                              text  \\\n",
       "1012  RT @RepShalala: Proud to stand with @SpeakerPelosi and @HouseDemocrats as we introduce legislation to protect Americans from junk plans, st…   \n",
       "\n",
       "                 tweet_id  trump_handle  sentiment  \n",
       "1012  1110617367330148353             0        0.8  "
      ]
     },
     "execution_count": 45,
     "metadata": {},
     "output_type": "execute_result"
    }
   ],
   "source": [
    "# Positive sentiment in a Pelosi tweet\n",
    "tweets[(tweets.handle == 'Nancy Pelosi') & (tweets.sentiment > 0.5)].head(1)"
   ]
  },
  {
   "cell_type": "code",
   "execution_count": 46,
   "metadata": {},
   "outputs": [],
   "source": [
    "# Reset the column display width\n",
    "pd.reset_option('max_colwidth')"
   ]
  },
  {
   "cell_type": "markdown",
   "metadata": {},
   "source": [
    "### Data Modeling"
   ]
  },
  {
   "cell_type": "markdown",
   "metadata": {},
   "source": [
    "### Using NLP Text Classification"
   ]
  },
  {
   "cell_type": "markdown",
   "metadata": {},
   "source": [
    "#### Build and train text classification models"
   ]
  },
  {
   "cell_type": "markdown",
   "metadata": {},
   "source": [
    "### Text Preprocessing"
   ]
  },
  {
   "cell_type": "markdown",
   "metadata": {},
   "source": [
    "Note: There are website links in the tweets.<br>\n",
    "Using the textacy package to do more comprehensive preprocessing before building model\n",
    "(http://textacy.readthedocs.io/en/latest/)."
   ]
  },
  {
   "cell_type": "code",
   "execution_count": 47,
   "metadata": {},
   "outputs": [],
   "source": [
    "tweet_text = tweets.text.values\n",
    "\n",
    "# Normalize various aspects of a raw text doc before parsing it with Spacy\n",
    "# -> A convenience function for applying all other preprocessing functions in one go\n",
    "# Note: fix_unicode: if True, fix \"broken\" unicode such as mojibake and garbled HTML entities\n",
    "#       lowercase: if True, all text is lower-cased\n",
    "#       transliterate: if True, convert non-ascii characters into their closest ascii equivalents\n",
    "#       no_urls: if True, replace all URL strings with '*URL*'\n",
    "#       no_emails: if True, replace all email strings with '*EMAIL*'\n",
    "#       no_phone_numbers: if True, replace all phone number strings with '*PHONE*'\n",
    "#       no_currency_symbols: if True, replace all currency symbols with their standard 3-letter abbreviations\n",
    "#       no_punct: if True, remove all punctuation (replace with empty string)\n",
    "#       no_accents: if True, replace all accented characters with unaccented versions; NB: if `transliterate` is True, this option is redundant\n",
    "clean_text = [preprocess_text(x, fix_unicode=True, lowercase=True, transliterate=False,\n",
    "                              no_urls=True, no_emails=True, no_phone_numbers=True, no_currency_symbols=True,\n",
    "                              no_punct=True, no_accents=True)\n",
    "              for x in tweet_text]"
   ]
  },
  {
   "cell_type": "code",
   "execution_count": 48,
   "metadata": {},
   "outputs": [
    {
     "name": "stdout",
     "output_type": "stream",
     "text": [
      "['https://t.co/lGxIGgf43F'\n",
      " 'RT @seanhannity: #HANNITY EXCLUSIVE TONIGHT: One-on-one with @realdonaldtrump — the President’s first interview since Mueller found no coll…'\n",
      " 'We are here today to award America’s highest military honor to a fallen hero who made the supreme sacrifice for our… https://t.co/LDPHbphb1g']\n"
     ]
    }
   ],
   "source": [
    "print(tweet_text[0:3])"
   ]
  },
  {
   "cell_type": "code",
   "execution_count": 49,
   "metadata": {
    "scrolled": true
   },
   "outputs": [
    {
     "name": "stdout",
     "output_type": "stream",
     "text": [
      "['url', 'rt seanhannity hannity exclusive tonight one on one with realdonaldtrump the president s first interview since mueller found no coll', 'we are here today to award america s highest military honor to a fallen hero who made the supreme sacrifice for our url']\n"
     ]
    }
   ],
   "source": [
    "print(clean_text[0:3])"
   ]
  },
  {
   "cell_type": "code",
   "execution_count": 50,
   "metadata": {},
   "outputs": [],
   "source": [
    "# Create a DataFrame from a list\n",
    "clean_text_df = pd.DataFrame(clean_text, columns=['clean_text'])"
   ]
  },
  {
   "cell_type": "code",
   "execution_count": 51,
   "metadata": {},
   "outputs": [
    {
     "data": {
      "text/html": [
       "<div>\n",
       "<style scoped>\n",
       "    .dataframe tbody tr th:only-of-type {\n",
       "        vertical-align: middle;\n",
       "    }\n",
       "\n",
       "    .dataframe tbody tr th {\n",
       "        vertical-align: top;\n",
       "    }\n",
       "\n",
       "    .dataframe thead th {\n",
       "        text-align: right;\n",
       "    }\n",
       "</style>\n",
       "<table border=\"1\" class=\"dataframe\">\n",
       "  <thead>\n",
       "    <tr style=\"text-align: right;\">\n",
       "      <th></th>\n",
       "      <th>created_at</th>\n",
       "      <th>handle</th>\n",
       "      <th>mined_at</th>\n",
       "      <th>retweet_count</th>\n",
       "      <th>text</th>\n",
       "      <th>tweet_id</th>\n",
       "      <th>trump_handle</th>\n",
       "      <th>sentiment</th>\n",
       "      <th>clean_text</th>\n",
       "    </tr>\n",
       "  </thead>\n",
       "  <tbody>\n",
       "    <tr>\n",
       "      <th>0</th>\n",
       "      <td>Wed Mar 27 23:17:42 +0000 2019</td>\n",
       "      <td>Donald J. Trump</td>\n",
       "      <td>2019-03-27 16:48:28.916553</td>\n",
       "      <td>4436</td>\n",
       "      <td>https://t.co/lGxIGgf43F</td>\n",
       "      <td>1111044654223552513</td>\n",
       "      <td>1</td>\n",
       "      <td>0.000000</td>\n",
       "      <td>url</td>\n",
       "    </tr>\n",
       "    <tr>\n",
       "      <th>1</th>\n",
       "      <td>Wed Mar 27 21:30:32 +0000 2019</td>\n",
       "      <td>Donald J. Trump</td>\n",
       "      <td>2019-03-27 16:48:28.916560</td>\n",
       "      <td>5673</td>\n",
       "      <td>RT @seanhannity: #HANNITY EXCLUSIVE TONIGHT: O...</td>\n",
       "      <td>1111017686987956227</td>\n",
       "      <td>1</td>\n",
       "      <td>0.250000</td>\n",
       "      <td>rt seanhannity hannity exclusive tonight one o...</td>\n",
       "    </tr>\n",
       "    <tr>\n",
       "      <th>2</th>\n",
       "      <td>Wed Mar 27 20:48:47 +0000 2019</td>\n",
       "      <td>Donald J. Trump</td>\n",
       "      <td>2019-03-27 16:48:28.916562</td>\n",
       "      <td>9636</td>\n",
       "      <td>We are here today to award America’s highest m...</td>\n",
       "      <td>1111007177190375424</td>\n",
       "      <td>1</td>\n",
       "      <td>-0.100000</td>\n",
       "      <td>we are here today to award america s highest m...</td>\n",
       "    </tr>\n",
       "    <tr>\n",
       "      <th>3</th>\n",
       "      <td>Wed Mar 27 19:38:55 +0000 2019</td>\n",
       "      <td>Donald J. Trump</td>\n",
       "      <td>2019-03-27 16:48:28.916563</td>\n",
       "      <td>7783</td>\n",
       "      <td>....Also discussed political fairness and vari...</td>\n",
       "      <td>1110989595758469120</td>\n",
       "      <td>1</td>\n",
       "      <td>0.083333</td>\n",
       "      <td>also discussed political fairness and various ...</td>\n",
       "    </tr>\n",
       "    <tr>\n",
       "      <th>4</th>\n",
       "      <td>Wed Mar 27 19:38:55 +0000 2019</td>\n",
       "      <td>Donald J. Trump</td>\n",
       "      <td>2019-03-27 16:48:28.916564</td>\n",
       "      <td>9737</td>\n",
       "      <td>Just met with @SundarPichai, President of @Goo...</td>\n",
       "      <td>1110989594521026561</td>\n",
       "      <td>1</td>\n",
       "      <td>0.216667</td>\n",
       "      <td>just met with sundarpichai president of google...</td>\n",
       "    </tr>\n",
       "  </tbody>\n",
       "</table>\n",
       "</div>"
      ],
      "text/plain": [
       "                       created_at           handle                   mined_at  \\\n",
       "0  Wed Mar 27 23:17:42 +0000 2019  Donald J. Trump 2019-03-27 16:48:28.916553   \n",
       "1  Wed Mar 27 21:30:32 +0000 2019  Donald J. Trump 2019-03-27 16:48:28.916560   \n",
       "2  Wed Mar 27 20:48:47 +0000 2019  Donald J. Trump 2019-03-27 16:48:28.916562   \n",
       "3  Wed Mar 27 19:38:55 +0000 2019  Donald J. Trump 2019-03-27 16:48:28.916563   \n",
       "4  Wed Mar 27 19:38:55 +0000 2019  Donald J. Trump 2019-03-27 16:48:28.916564   \n",
       "\n",
       "   retweet_count                                               text  \\\n",
       "0           4436                            https://t.co/lGxIGgf43F   \n",
       "1           5673  RT @seanhannity: #HANNITY EXCLUSIVE TONIGHT: O...   \n",
       "2           9636  We are here today to award America’s highest m...   \n",
       "3           7783  ....Also discussed political fairness and vari...   \n",
       "4           9737  Just met with @SundarPichai, President of @Goo...   \n",
       "\n",
       "              tweet_id  trump_handle  sentiment  \\\n",
       "0  1111044654223552513             1   0.000000   \n",
       "1  1111017686987956227             1   0.250000   \n",
       "2  1111007177190375424             1  -0.100000   \n",
       "3  1110989595758469120             1   0.083333   \n",
       "4  1110989594521026561             1   0.216667   \n",
       "\n",
       "                                          clean_text  \n",
       "0                                                url  \n",
       "1  rt seanhannity hannity exclusive tonight one o...  \n",
       "2  we are here today to award america s highest m...  \n",
       "3  also discussed political fairness and various ...  \n",
       "4  just met with sundarpichai president of google...  "
      ]
     },
     "execution_count": 51,
     "metadata": {},
     "output_type": "execute_result"
    }
   ],
   "source": [
    "# Concatenate DataFrames\n",
    "# Note: axis=0 for rows, axis=1 for columns\n",
    "tweets = pd.concat([tweets, clean_text_df], axis=1)\n",
    "tweets.head()"
   ]
  },
  {
   "cell_type": "markdown",
   "metadata": {},
   "source": [
    "### Building Phase"
   ]
  },
  {
   "cell_type": "markdown",
   "metadata": {},
   "source": [
    "#### Predicting Donald Trump tweets"
   ]
  },
  {
   "cell_type": "code",
   "execution_count": 52,
   "metadata": {},
   "outputs": [
    {
     "name": "stdout",
     "output_type": "stream",
     "text": [
      "1    1000\n",
      "0    1000\n",
      "Name: trump_handle, dtype: int64\n",
      "\n",
      "Percentage of trump_handle=No(0), trump_handle=Yes(1)\n"
     ]
    },
    {
     "data": {
      "text/plain": [
       "1    0.5\n",
       "0    0.5\n",
       "Name: trump_handle, dtype: float64"
      ]
     },
     "execution_count": 52,
     "metadata": {},
     "output_type": "execute_result"
    }
   ],
   "source": [
    "# Categorical column frequency\n",
    "# Returns counts of unique values in descending order (first element is the most frequently-occurring element)\n",
    "# Note: Excludes NA values by default\n",
    "print(tweets.trump_handle.value_counts(dropna=False))\n",
    "print()\n",
    "print('Percentage of trump_handle=No(0), trump_handle=Yes(1)')\n",
    "round(tweets.trump_handle.value_counts(dropna=False)/len(tweets), 3)"
   ]
  },
  {
   "cell_type": "markdown",
   "metadata": {},
   "source": [
    "Note: CLASSES ARE EQUALLY BALANCED!!"
   ]
  },
  {
   "cell_type": "code",
   "execution_count": 53,
   "metadata": {},
   "outputs": [],
   "source": [
    "# Create a list of features\n",
    "feature_cols = ['clean_text', 'sentiment']\n",
    "\n",
    "# Create X and y\n",
    "X = tweets[feature_cols]\n",
    "y = tweets.trump_handle"
   ]
  },
  {
   "cell_type": "code",
   "execution_count": 54,
   "metadata": {},
   "outputs": [],
   "source": [
    "# Split X and y into training and testing sets\n",
    "# Note: train_size: between 0.0 and 1.0 and represent the proportion of the dataset to include in the train split\n",
    "#       test_size: between 0.0 and 1.0 and represent the proportion of the dataset to include in the test split\n",
    "#       random_state: the seed used by the random number generator\n",
    "X_train, X_test, y_train, y_test = train_test_split(X, y, train_size=0.70, test_size=0.30, random_state=65)"
   ]
  },
  {
   "cell_type": "markdown",
   "metadata": {},
   "source": [
    "#### Compute Baseline Accuracy\n",
    "https://machinelearningmastery.com/how-to-get-baseline-results-and-why-they-matter/"
   ]
  },
  {
   "cell_type": "code",
   "execution_count": 55,
   "metadata": {},
   "outputs": [
    {
     "name": "stdout",
     "output_type": "stream",
     "text": [
      "0    710\n",
      "1    690\n",
      "Name: trump_handle, dtype: int64\n",
      "\n",
      "Most frequent class in training dataset: 0\n",
      "\n",
      "Baseline accuracy: 0.483\n"
     ]
    }
   ],
   "source": [
    "# Categorical column frequency\n",
    "# Returns counts of unique values in descending order (first element is the most frequently-occurring element)\n",
    "# Note: Excludes NA values by default\n",
    "print(y_train.value_counts())\n",
    "print()\n",
    "\n",
    "most_freq_class = y_train.value_counts().index[0]\n",
    "print('Most frequent class in training dataset:', most_freq_class)\n",
    "print()\n",
    "\n",
    "print('Baseline accuracy:', round(y_test.value_counts()[most_freq_class] / y_test.count(), 3))"
   ]
  },
  {
   "cell_type": "markdown",
   "metadata": {},
   "source": [
    "### Text Processing"
   ]
  },
  {
   "cell_type": "markdown",
   "metadata": {},
   "source": [
    "[CountVectorizer documentation](http://scikit-learn.org/stable/modules/generated/sklearn.feature_extraction.text.CountVectorizer.html)"
   ]
  },
  {
   "cell_type": "markdown",
   "metadata": {},
   "source": [
    "Use CountVectorizer with text column only."
   ]
  },
  {
   "cell_type": "code",
   "execution_count": 56,
   "metadata": {},
   "outputs": [],
   "source": [
    "# Instantiate CountVectorizer to convert a collection of text documents to a matrix of token counts\n",
    "# -> This implementation produces a sparse representation of the counts using scipy.sparse.csr_matrix\n",
    "vect = CountVectorizer()\n",
    "\n",
    "# Learn the vocabulary dictionary and return term-document matrix\n",
    "# -> This is equivalent to fit followed by transform, but more efficiently implemented\n",
    "X_train_dtm = vect.fit_transform(X_train.clean_text)\n",
    "\n",
    "# Transform documents to document-term matrix\n",
    "# -> Extract token counts out of raw text documents using the vocabulary fitted with fit or the one provided to the constructor\n",
    "X_test_dtm = vect.transform(X_test.clean_text)"
   ]
  },
  {
   "cell_type": "code",
   "execution_count": 57,
   "metadata": {
    "slideshow": {
     "slide_type": "fragment"
    }
   },
   "outputs": [
    {
     "name": "stdout",
     "output_type": "stream",
     "text": [
      "Rows: 1400, Cols: 4531\n"
     ]
    }
   ],
   "source": [
    "# Return the number of rows (documents) and columns (terms (aka \"tokens\" or \"features\"; individual words in this situation)) of the DataFrame\n",
    "print('Rows: {}, Cols: {}'.format(X_train_dtm.shape[0], X_train_dtm.shape[1]))"
   ]
  },
  {
   "cell_type": "code",
   "execution_count": 58,
   "metadata": {},
   "outputs": [
    {
     "name": "stdout",
     "output_type": "stream",
     "text": [
      "Rows: 600, Cols: 4531\n"
     ]
    }
   ],
   "source": [
    "# Return the number of rows (documents) and columns (terms (aka \"tokens\" or \"features\"; individual words in this situation)) of the DataFrame\n",
    "print('Rows: {}, Cols: {}'.format(X_test_dtm.shape[0], X_test_dtm.shape[1]))"
   ]
  },
  {
   "cell_type": "markdown",
   "metadata": {},
   "source": [
    "Shape of other feature columns."
   ]
  },
  {
   "cell_type": "code",
   "execution_count": 59,
   "metadata": {},
   "outputs": [
    {
     "name": "stdout",
     "output_type": "stream",
     "text": [
      "Rows: 1400, Cols: 1\n"
     ]
    }
   ],
   "source": [
    "# Return the number of rows (documents) and columns (terms (aka \"tokens\" or \"features\"; individual words in this situation)) of the DataFrame\n",
    "print('Rows: {}, Cols: {}'.format(X_train.drop('clean_text', axis=1).shape[0], X_train.drop('clean_text', axis=1).shape[1]))"
   ]
  },
  {
   "cell_type": "code",
   "execution_count": 60,
   "metadata": {},
   "outputs": [
    {
     "name": "stdout",
     "output_type": "stream",
     "text": [
      "Rows: 600, Cols: 1\n"
     ]
    }
   ],
   "source": [
    "# Return the number of rows (documents) and columns (terms (aka \"tokens\" or \"features\"; individual words in this situation)) of the DataFrame\n",
    "print('Rows: {}, Cols: {}'.format(X_test.drop('clean_text', axis=1).shape[0], X_test.drop('clean_text', axis=1).shape[1]))"
   ]
  },
  {
   "cell_type": "markdown",
   "metadata": {},
   "source": [
    "Training set:<br>Cast other feature columns to float and convert to a sparse matrix"
   ]
  },
  {
   "cell_type": "code",
   "execution_count": 61,
   "metadata": {},
   "outputs": [
    {
     "data": {
      "text/plain": [
       "<1400x1 sparse matrix of type '<class 'numpy.float64'>'\n",
       "\twith 871 stored elements in Compressed Sparse Row format>"
      ]
     },
     "execution_count": 61,
     "metadata": {},
     "output_type": "execute_result"
    }
   ],
   "source": [
    "# Compressed Sparse Row matrix\n",
    "extra = sp.sparse.csr_matrix(X_train.drop('clean_text', axis=1).astype(float))\n",
    "extra"
   ]
  },
  {
   "cell_type": "code",
   "execution_count": 62,
   "metadata": {},
   "outputs": [
    {
     "name": "stdout",
     "output_type": "stream",
     "text": [
      "Rows: 1400, Cols: 1\n"
     ]
    }
   ],
   "source": [
    "# Return the number of rows (documents) and columns (terms (aka \"tokens\" or \"features\"; individual words in this situation)) of the DataFrame\n",
    "print('Rows: {}, Cols: {}'.format(extra.shape[0], extra.shape[1]))"
   ]
  },
  {
   "cell_type": "code",
   "execution_count": 63,
   "metadata": {},
   "outputs": [
    {
     "name": "stdout",
     "output_type": "stream",
     "text": [
      "Rows: 1400, Cols: 4532\n"
     ]
    }
   ],
   "source": [
    "# Combine sparse matrices\n",
    "# -> Stack sparse matrices horizontally (column wise)\n",
    "X_train_dtm_extra = sp.sparse.hstack((X_train_dtm, extra))\n",
    "\n",
    "# Return the number of rows (documents) and columns (terms (aka \"tokens\" or \"features\"; individual words in this situation)) of the DataFrame\n",
    "print('Rows: {}, Cols: {}'.format(X_train_dtm_extra.shape[0], X_train_dtm_extra.shape[1]))"
   ]
  },
  {
   "cell_type": "markdown",
   "metadata": {},
   "source": [
    "Testing set:<br>Cast other feature columns to float and convert to a sparse matrix"
   ]
  },
  {
   "cell_type": "code",
   "execution_count": 64,
   "metadata": {},
   "outputs": [
    {
     "data": {
      "text/plain": [
       "<600x1 sparse matrix of type '<class 'numpy.float64'>'\n",
       "\twith 365 stored elements in Compressed Sparse Row format>"
      ]
     },
     "execution_count": 64,
     "metadata": {},
     "output_type": "execute_result"
    }
   ],
   "source": [
    "# Compressed Sparse Row matrix\n",
    "extra = sp.sparse.csr_matrix(X_test.drop('clean_text', axis=1).astype(float))\n",
    "extra"
   ]
  },
  {
   "cell_type": "code",
   "execution_count": 65,
   "metadata": {},
   "outputs": [
    {
     "name": "stdout",
     "output_type": "stream",
     "text": [
      "Rows: 600, Cols: 1\n"
     ]
    }
   ],
   "source": [
    "# Return the number of rows (documents) and columns (terms (aka \"tokens\" or \"features\"; individual words in this situation)) of the DataFrame\n",
    "print('Rows: {}, Cols: {}'.format(extra.shape[0], extra.shape[1]))"
   ]
  },
  {
   "cell_type": "code",
   "execution_count": 66,
   "metadata": {},
   "outputs": [
    {
     "name": "stdout",
     "output_type": "stream",
     "text": [
      "Rows: 600, Cols: 4532\n"
     ]
    }
   ],
   "source": [
    "# Combine sparse matrices\n",
    "# -> Stack sparse matrices horizontally (column wise)\n",
    "X_test_dtm_extra = sp.sparse.hstack((X_test_dtm, extra))\n",
    "\n",
    "# Return the number of rows (documents) and columns (terms (aka \"tokens\" or \"features\"; individual words in this situation)) of the DataFrame\n",
    "print('Rows: {}, Cols: {}'.format(X_test_dtm_extra.shape[0], X_test_dtm_extra.shape[1]))"
   ]
  },
  {
   "cell_type": "code",
   "execution_count": 67,
   "metadata": {},
   "outputs": [
    {
     "data": {
      "text/plain": [
       "{'analyzer': 'word',\n",
       " 'binary': False,\n",
       " 'decode_error': 'strict',\n",
       " 'dtype': numpy.int64,\n",
       " 'encoding': 'utf-8',\n",
       " 'input': 'content',\n",
       " 'lowercase': True,\n",
       " 'max_df': 1.0,\n",
       " 'max_features': None,\n",
       " 'min_df': 1,\n",
       " 'ngram_range': (1, 1),\n",
       " 'preprocessor': None,\n",
       " 'stop_words': None,\n",
       " 'strip_accents': None,\n",
       " 'token_pattern': '(?u)\\\\b\\\\w\\\\w+\\\\b',\n",
       " 'tokenizer': None,\n",
       " 'vocabulary': None}"
      ]
     },
     "execution_count": 67,
     "metadata": {},
     "output_type": "execute_result"
    }
   ],
   "source": [
    "# Get parameters for this estimator\n",
    "vect.get_params()"
   ]
  },
  {
   "cell_type": "code",
   "execution_count": 68,
   "metadata": {
    "scrolled": true,
    "slideshow": {
     "slide_type": "subslide"
    }
   },
   "outputs": [
    {
     "name": "stdout",
     "output_type": "stream",
     "text": [
      "['words', 'work', 'worked', 'worker', 'workers', 'workforce', 'workin', 'working', 'works', 'world', 'worldwide', 'worry', 'worse', 'worst', 'worth', 'would', 'wouldn', 'wounded', 'wow', 'write', 'writes', 'writing', 'written', 'wrong', 'wrote', 'wsj', 'xi', 'xia', 'ye', 'year', 'yearly', 'years', 'yemen', 'yes', 'yesterday', 'yet', 'york', 'you', 'young', 'your', 'yourself', 'youtube', 'yrs', 'yubucoa', 'yum', 'zacharyivanpor1', 'zealand', 'zero', 'zinke', 'zte']\n"
     ]
    }
   ],
   "source": [
    "# Array mapping from feature integer indices to feature name\n",
    "# -> Last 50 features\n",
    "print(vect.get_feature_names()[-50:])"
   ]
  },
  {
   "cell_type": "code",
   "execution_count": 69,
   "metadata": {
    "slideshow": {
     "slide_type": "subslide"
    }
   },
   "outputs": [
    {
     "name": "stdout",
     "output_type": "stream",
     "text": [
      "Number of features (unique words): 4531\n"
     ]
    },
    {
     "data": {
      "text/plain": [
       "{'the': 4018,\n",
       " 'democrats': 1109,\n",
       " 'are': 341,\n",
       " 'border': 533,\n",
       " 'deniers': 1113,\n",
       " 'they': 4029,\n",
       " 'refuse': 3212,\n",
       " 'to': 4083,\n",
       " 'see': 3570,\n",
       " 'or': 2787,\n",
       " 'acknowledge': 140,\n",
       " 'death': 1050,\n",
       " 'crime': 975,\n",
       " 'drugs': 1264,\n",
       " 'and': 286,\n",
       " 'human': 1955,\n",
       " 'trafficking': 4119,\n",
       " 'at': 377,\n",
       " 'our': 2801,\n",
       " 'southern': 3744,\n",
       " 'rt': 3467,\n",
       " 'repmaloney': 3326,\n",
       " 'roevwade': 3447,\n",
       " 'settled': 3641,\n",
       " 'law': 2308,\n",
       " 'protects': 3091,\n",
       " 'women': 4473,\n",
       " 'essential': 1395,\n",
       " 'rights': 3431,\n",
       " 'privacy': 3040,\n",
       " 'healthcare': 1836,\n",
       " 'reproductive': 3350,\n",
       " 'freedom': 1640,\n",
       " 'choice': 721,\n",
       " 'that': 4017,\n",
       " 'is': 2132,\n",
       " 'trumpbudget': 4164,\n",
       " 'cruel': 993,\n",
       " 'roadmap': 3437,\n",
       " 'sicker': 3683,\n",
       " 'weaker': 4389,\n",
       " 'america': 272,\n",
       " 'americans': 276,\n",
       " 'deserve': 1124,\n",
       " 'federal': 1521,\n",
       " 'budget': 580,\n",
       " 'works': 4489,\n",
       " 'url': 4250,\n",
       " 'repescobar': 3300,\n",
       " 'proud': 3094,\n",
       " 'stand': 3789,\n",
       " 'with': 4466,\n",
       " 'my': 2626,\n",
       " 'fellow': 1528,\n",
       " 'housedemocrats': 1934,\n",
       " 'introduce': 2104,\n",
       " 'protecting': 3086,\n",
       " 'pre': 2998,\n",
       " 'existing': 1441,\n",
       " 'conditions': 856,\n",
       " 'making': 2442,\n",
       " 'health': 1835,\n",
       " 'care': 640,\n",
       " 'more': 2589,\n",
       " 'former': 1611,\n",
       " 'senator': 3595,\n",
       " 'harry': 1813,\n",
       " 'reid': 3225,\n",
       " 'he': 1826,\n",
       " 'got': 1725,\n",
       " 'thrown': 4065,\n",
       " 'out': 2803,\n",
       " 'working': 4488,\n",
       " 'hard': 1807,\n",
       " 'put': 3117,\n",
       " 'good': 1715,\n",
       " 'spin': 3766,\n",
       " 'on': 2757,\n",
       " 'his': 1880,\n",
       " 'failed': 1473,\n",
       " 'career': 641,\n",
       " 'led': 2328,\n",
       " 'throu': 4059,\n",
       " 'as': 358,\n",
       " 'we': 4385,\n",
       " 'fight': 1537,\n",
       " 'keepfamliestogether': 2233,\n",
       " 'reunite': 3405,\n",
       " 'those': 4040,\n",
       " 'separated': 3623,\n",
       " 'have': 1822,\n",
       " 'must': 2624,\n",
       " 'also': 257,\n",
       " 'protectourcare': 3089,\n",
       " 'gop': 1719,\n",
       " 'wants': 4361,\n",
       " 'roll': 3450,\n",
       " 'back': 404,\n",
       " 'rachelward83': 3135,\n",
       " 'formidable': 1612,\n",
       " 'nancy': 2637,\n",
       " 'pelosi': 2884,\n",
       " 'engage': 1356,\n",
       " 'young': 4519,\n",
       " 'people': 2891,\n",
       " 'future': 1660,\n",
       " 'of': 2736,\n",
       " 'this': 4037,\n",
       " 'planet': 2926,\n",
       " 'belongs': 464,\n",
       " 'them': 4022,\n",
       " 'gcas2018': 1672,\n",
       " 'version': 4289,\n",
       " 'goptaxscam': 1723,\n",
       " 'for': 1596,\n",
       " 'rich': 3421,\n",
       " 'republicans': 3366,\n",
       " 'want': 4358,\n",
       " 'add': 159,\n",
       " 'even': 1407,\n",
       " 'deficit': 1083,\n",
       " 'families': 1487,\n",
       " 'across': 144,\n",
       " 'country': 947,\n",
       " 'come': 803,\n",
       " 'together': 4085,\n",
       " 'celebrate': 663,\n",
       " 'wish': 4461,\n",
       " 'joy': 2203,\n",
       " 'comfort': 807,\n",
       " 'you': 4518,\n",
       " 'all': 242,\n",
       " 'merry': 2524,\n",
       " 'christmas': 729,\n",
       " 'happ': 1798,\n",
       " 'repsarbanes': 3353,\n",
       " 'day': 1037,\n",
       " 'will': 4447,\n",
       " 'deliver': 1091,\n",
       " 'something': 3729,\n",
       " 'real': 3164,\n",
       " 'most': 2594,\n",
       " 'ambitious': 267,\n",
       " 'set': 3638,\n",
       " 'democracy': 1106,\n",
       " 'reforms': 3208,\n",
       " 'in': 2021,\n",
       " 'gener': 1675,\n",
       " 'home': 1904,\n",
       " 'where': 4421,\n",
       " 'belong': 463,\n",
       " 'no': 2691,\n",
       " 'rockets': 3443,\n",
       " 'being': 456,\n",
       " 'fired': 1556,\n",
       " 'over': 2810,\n",
       " 'japan': 2159,\n",
       " 'anywhere': 310,\n",
       " 'else': 1321,\n",
       " 'importantl': 2015,\n",
       " 'morning': 2591,\n",
       " 'great': 1746,\n",
       " 'be': 434,\n",
       " 'live': 2380,\n",
       " 'from': 1646,\n",
       " 'white': 4432,\n",
       " 'house': 1932,\n",
       " '00': 0,\n",
       " 'repbonnie': 3274,\n",
       " 'if': 1982,\n",
       " 'succeed': 3893,\n",
       " 'getting': 1691,\n",
       " 'rid': 3424,\n",
       " 'protections': 3088,\n",
       " 'like': 2363,\n",
       " 'lisa': 2374,\n",
       " 'could': 941,\n",
       " 'suffer': 3900,\n",
       " 'her': 1857,\n",
       " 'son': 3731,\n",
       " 'big': 484,\n",
       " 'crooked': 985,\n",
       " 'hillary': 1875,\n",
       " 'firm': 1560,\n",
       " 'represented': 3347,\n",
       " 'by': 600,\n",
       " 'lawyer': 2312,\n",
       " 'michael': 2534,\n",
       " 'sussmann': 3931,\n",
       " 'do': 1214,\n",
       " 'believe': 458,\n",
       " 'who': 4435,\n",
       " 'worked': 4483,\n",
       " 'baker': 414,\n",
       " 'excited': 1430,\n",
       " 'friends': 1645,\n",
       " 'egypt': 1305,\n",
       " 'opening': 2770,\n",
       " 'biggest': 486,\n",
       " 'cathedral': 655,\n",
       " 'middle': 2536,\n",
       " 'east': 1286,\n",
       " 'president': 3016,\n",
       " 'el': 1308,\n",
       " 'sisi': 3699,\n",
       " 'moving': 2605,\n",
       " 'lrihendry': 2421,\n",
       " 'meghan': 2512,\n",
       " 'mccain': 2489,\n",
       " 'took': 4093,\n",
       " 'swipe': 3936,\n",
       " 'trump': 4162,\n",
       " 'suggesting': 3903,\n",
       " 'one': 2759,\n",
       " 'ever': 1412,\n",
       " 'love': 2414,\n",
       " 'loved': 2415,\n",
       " 'father': 1505,\n",
       " 'wrong': 4504,\n",
       " 'million': 2545,\n",
       " 'looking': 2395,\n",
       " 'forward': 1615,\n",
       " 'today': 4084,\n",
       " 'conversation': 920,\n",
       " 'neeratanden': 2658,\n",
       " 'about': 118,\n",
       " 'cost': 939,\n",
       " 'culture': 997,\n",
       " 'corruption': 938,\n",
       " 'dems': 1110,\n",
       " 'rulesdemocrats': 3473,\n",
       " 've': 4283,\n",
       " 'seen': 3578,\n",
       " 'some': 3726,\n",
       " 'surreal': 3921,\n",
       " 'things': 4032,\n",
       " 'around': 351,\n",
       " 'place': 2922,\n",
       " 'but': 597,\n",
       " 'really': 3169,\n",
       " 'vital': 4326,\n",
       " 'parts': 2849,\n",
       " 'government': 1729,\n",
       " 'into': 2101,\n",
       " 'stopthebias': 3844,\n",
       " 'dbongino': 1041,\n",
       " 'when': 4420,\n",
       " 'going': 1710,\n",
       " 'start': 3797,\n",
       " 'investigating': 2112,\n",
       " 'collusion': 796,\n",
       " 'scandal': 3524,\n",
       " 'between': 478,\n",
       " 'clinton': 767,\n",
       " 'obama': 2727,\n",
       " 'teams': 3978,\n",
       " 'fore': 1601,\n",
       " 'usmc': 4269,\n",
       " '74': 101,\n",
       " 'years': 4512,\n",
       " 'ago': 216,\n",
       " 'marines': 2462,\n",
       " 'iwo': 2146,\n",
       " 'jima': 2179,\n",
       " 'raised': 3139,\n",
       " 'flag': 1571,\n",
       " 'atop': 378,\n",
       " 'mount': 2599,\n",
       " 'suribachi': 3919,\n",
       " 'semper': 3589,\n",
       " 'fidelis': 1536,\n",
       " 'congresswoman': 877,\n",
       " 'omar': 2756,\n",
       " 'agreed': 219,\n",
       " 'use': 4265,\n",
       " 'moment': 2574,\n",
       " 'move': 2602,\n",
       " 'rejec': 3228,\n",
       " 'shirley': 3662,\n",
       " 'chisholm': 720,\n",
       " 'refused': 3213,\n",
       " 'remembered': 3251,\n",
       " 'anything': 308,\n",
       " 'other': 2795,\n",
       " 'than': 4012,\n",
       " 'what': 4416,\n",
       " 'she': 3657,\n",
       " 'was': 4370,\n",
       " 'catalyst': 654,\n",
       " 'change': 690,\n",
       " 'committed': 819,\n",
       " 'pm': 2946,\n",
       " 'et': 1399,\n",
       " 'sign': 3686,\n",
       " 'john': 2190,\n",
       " 'dingell': 1169,\n",
       " 'jr': 2205,\n",
       " 'conservation': 885,\n",
       " 'management': 2449,\n",
       " 'recreation': 3196,\n",
       " 'act': 145,\n",
       " 'send': 3601,\n",
       " 'legislation': 2335,\n",
       " 'nine': 2689,\n",
       " 'days': 1040,\n",
       " 'after': 203,\n",
       " 'judge': 2209,\n",
       " 'ordered': 2789,\n",
       " 'reunification': 3404,\n",
       " 'admin': 169,\n",
       " 'continues': 910,\n",
       " 'hold': 1898,\n",
       " 'nearly': 2650,\n",
       " '300': 63,\n",
       " 'it': 2140,\n",
       " '24': 52,\n",
       " 'trumpshutdown': 4170,\n",
       " '800': 104,\n",
       " '000': 1,\n",
       " 'losing': 2404,\n",
       " 'paychecks': 2877,\n",
       " 'safety': 3493,\n",
       " 'countless': 945,\n",
       " 'ar': 339,\n",
       " 'how': 1942,\n",
       " 'many': 2456,\n",
       " 'times': 4076,\n",
       " 'realdonaldtrump': 3166,\n",
       " 'need': 2654,\n",
       " 'take': 3949,\n",
       " 'putin': 3118,\n",
       " 'word': 4480,\n",
       " 'own': 2826,\n",
       " 'intelligence': 2085,\n",
       " 'community': 829,\n",
       " 'before': 446,\n",
       " 'whether': 4423,\n",
       " 'supreme': 3914,\n",
       " 'court': 953,\n",
       " 'halls': 1784,\n",
       " 'congress': 873,\n",
       " 'american': 274,\n",
       " 'know': 2267,\n",
       " 'their': 4021,\n",
       " 'wo': 4470,\n",
       " 'careful': 642,\n",
       " 'try': 4174,\n",
       " 'staying': 3811,\n",
       " 'your': 4520,\n",
       " 'large': 2293,\n",
       " 'suffering': 3902,\n",
       " 'tremendous': 4149,\n",
       " 'amounts': 281,\n",
       " 'snow': 3714,\n",
       " 'heartbroken': 1843,\n",
       " 'loss': 2405,\n",
       " '12': 9,\n",
       " 'innocent': 2064,\n",
       " 'last': 2298,\n",
       " 'night': 2686,\n",
       " 'borderlineshooting': 534,\n",
       " 'including': 2029,\n",
       " 'sheriff': 3659,\n",
       " 'sgt': 3646,\n",
       " 'senschumer': 3615,\n",
       " 'had': 1780,\n",
       " 'wonderful': 4479,\n",
       " 'time': 4075,\n",
       " 'helping': 1853,\n",
       " 'stephenathome': 3821,\n",
       " 'super': 3908,\n",
       " 'bowl': 542,\n",
       " 'always': 260,\n",
       " 'an': 283,\n",
       " 'honor': 1911,\n",
       " 'detroit': 1142,\n",
       " 'san': 3500,\n",
       " 'francisco': 1633,\n",
       " 'arethafranklin': 346,\n",
       " 'warmed': 4364,\n",
       " 'hearts': 1845,\n",
       " 'inspired': 2071,\n",
       " 'us': 4251,\n",
       " 'beauty': 437,\n",
       " 'soul': 3739,\n",
       " 'economy': 1294,\n",
       " 'doing': 1223,\n",
       " 'any': 304,\n",
       " 'history': 1886,\n",
       " 'media': 2504,\n",
       " 'barely': 421,\n",
       " 'covers': 959,\n",
       " 'foxandfriends': 1624,\n",
       " 'repbeatty': 3272,\n",
       " 'instead': 2074,\n",
       " 'another': 296,\n",
       " 'ohio': 2750,\n",
       " 'campaign': 620,\n",
       " 'rally': 3143,\n",
       " 'housegop': 1936,\n",
       " 'get': 1689,\n",
       " 'work': 4482,\n",
       " 'ohioans': 2751,\n",
       " 'paying': 2879,\n",
       " 'jo': 2182,\n",
       " 'chuckcallesto': 733,\n",
       " 'defends': 1081,\n",
       " 'jeanine': 2165,\n",
       " 'fox': 1623,\n",
       " 'censors': 667,\n",
       " 'show': 3672,\n",
       " 'replloyddoggett': 3322,\n",
       " 'should': 3670,\n",
       " 'ashamed': 360,\n",
       " 'efforts': 1303,\n",
       " 'destroy': 1133,\n",
       " 'critical': 981,\n",
       " 'condition': 855,\n",
       " 'keep': 2231,\n",
       " 'insura': 2080,\n",
       " 'regrettably': 3221,\n",
       " 'has': 1816,\n",
       " 'now': 2712,\n",
       " 'entered': 1369,\n",
       " 'think': 4033,\n",
       " 'probably': 3043,\n",
       " 'consequential': 884,\n",
       " 'screwup': 3547,\n",
       " '25': 56,\n",
       " '50': 82,\n",
       " 'difficult': 1166,\n",
       " 'compr': 841,\n",
       " 'juliabrownley26': 2215,\n",
       " 'administration': 173,\n",
       " 'attempts': 386,\n",
       " 'millions': 2547,\n",
       " 'americ': 271,\n",
       " 'hope': 1915,\n",
       " 'chairman': 681,\n",
       " 'beloved': 465,\n",
       " 'wife': 4443,\n",
       " 'repdebdingell': 3288,\n",
       " 'entire': 1371,\n",
       " 'family': 1489,\n",
       " 'so': 3715,\n",
       " 'mo': 2570,\n",
       " 'bold': 524,\n",
       " 'action': 147,\n",
       " 'prevent': 3024,\n",
       " 'gun': 1772,\n",
       " 'violence': 4316,\n",
       " 'thanks': 4015,\n",
       " 'nygovcuomo': 2723,\n",
       " 'new': 2672,\n",
       " 'york': 4517,\n",
       " 'state': 3803,\n",
       " 'le': 2315,\n",
       " 'wall': 4355,\n",
       " 'built': 584,\n",
       " 'well': 4408,\n",
       " 'under': 4205,\n",
       " 'construction': 901,\n",
       " 'impact': 2005,\n",
       " 'made': 2431,\n",
       " 'additional': 165,\n",
       " 'contracts': 913,\n",
       " 'clos': 769,\n",
       " 'speaking': 3755,\n",
       " 'reporters': 3337,\n",
       " 'capitol': 635,\n",
       " 'ahead': 224,\n",
       " 'vote': 4333,\n",
       " 'deal': 1045,\n",
       " 'keepgovernmentopen': 2234,\n",
       " 'forthepeople': 1614,\n",
       " 'agenda': 213,\n",
       " 'lower': 2419,\n",
       " 'costs': 940,\n",
       " 'reduce': 3202,\n",
       " 'price': 3027,\n",
       " 'rx': 3485,\n",
       " 'raise': 3138,\n",
       " 'wages': 4347,\n",
       " 'rank': 3149,\n",
       " 'file': 1541,\n",
       " 'fbi': 1510,\n",
       " 'disgusted': 1200,\n",
       " 'learning': 2324,\n",
       " 'lyin': 2427,\n",
       " 'james': 2154,\n",
       " 'comey': 806,\n",
       " 'caravans': 639,\n",
       " 'marching': 2459,\n",
       " 'through': 4061,\n",
       " 'mexico': 2531,\n",
       " 'toward': 4105,\n",
       " 'prepared': 3004,\n",
       " 'whatever': 4417,\n",
       " 'necess': 2652,\n",
       " 'don': 1229,\n",
       " 'forget': 1606,\n",
       " 'building': 583,\n",
       " 'renovating': 3257,\n",
       " 'sections': 3560,\n",
       " 'right': 3428,\n",
       " 'quickly': 3130,\n",
       " 'far': 1497,\n",
       " 'less': 2343,\n",
       " 'best': 471,\n",
       " 'supporter': 3911,\n",
       " 'steel': 3815,\n",
       " 'industry': 2046,\n",
       " 'bring': 567,\n",
       " 'dignity': 1167,\n",
       " 'legislative': 2336,\n",
       " 'branch': 547,\n",
       " 'shouldn': 3671,\n",
       " 'its': 2141,\n",
       " 'speed': 3760,\n",
       " 'lig': 2361,\n",
       " 'reviewing': 3415,\n",
       " 'funding': 1654,\n",
       " 'bill': 489,\n",
       " 'team': 3977,\n",
       " 'whitehouse': 4433,\n",
       " 'introducing': 2106,\n",
       " 'paris': 2836,\n",
       " 'agreement': 221,\n",
       " 'force': 1597,\n",
       " 'pelosipress': 2885,\n",
       " 'nation': 2642,\n",
       " 'still': 3830,\n",
       " 'feeling': 1524,\n",
       " 'effects': 1300,\n",
       " 'senseless': 3617,\n",
       " 'can': 625,\n",
       " 'dispel': 1203,\n",
       " 'mood': 2584,\n",
       " 'positive': 2975,\n",
       " 'energy': 1352,\n",
       " 'varneyco': 4281,\n",
       " 'hurricanemichael': 1968,\n",
       " 'makes': 2441,\n",
       " 'landfall': 2290,\n",
       " 'keeping': 2235,\n",
       " 'line': 2372,\n",
       " 'danger': 1023,\n",
       " 'prayers': 2996,\n",
       " 'look': 2394,\n",
       " 'listening': 2377,\n",
       " 'voices': 4329,\n",
       " 'priorities': 3036,\n",
       " 'americanlegion': 275,\n",
       " 'vfwhq': 4298,\n",
       " 'con': 844,\n",
       " 'enthusiasm': 1370,\n",
       " 'appoint': 321,\n",
       " 'usrepkcastor': 4271,\n",
       " 'chair': 680,\n",
       " 'select': 3580,\n",
       " 'committee': 820,\n",
       " 'climate': 764,\n",
       " 'cr': 961,\n",
       " 'colbertlateshow': 784,\n",
       " 'democratic': 1108,\n",
       " 'leader': 2317,\n",
       " 'nancypelosi': 2638,\n",
       " 'invites': 2118,\n",
       " 'lssc': 2422,\n",
       " 'greenroom': 1753,\n",
       " 'blind': 511,\n",
       " 'taste': 3967,\n",
       " 'test': 4001,\n",
       " 'off': 2737,\n",
       " 'massive': 2477,\n",
       " 'humanitarian': 1957,\n",
       " 'crisis': 980,\n",
       " 'long': 2391,\n",
       " 'unless': 4229,\n",
       " 'wake': 4350,\n",
       " 'worst': 4494,\n",
       " 'anti': 301,\n",
       " 'semitic': 3587,\n",
       " 'attack': 381,\n",
       " 'usrepmikedoyle': 4272,\n",
       " 'knows': 2271,\n",
       " 'way': 4381,\n",
       " 'li': 2352,\n",
       " 'infrastructure': 2056,\n",
       " 'been': 445,\n",
       " 'bipartisan': 495,\n",
       " 'issue': 2138,\n",
       " 'create': 968,\n",
       " 'jobs': 2186,\n",
       " 'investing': 2115,\n",
       " 'infrastruct': 2055,\n",
       " 'yesterday': 4515,\n",
       " 'spent': 3764,\n",
       " 'endgunviolence': 1344,\n",
       " 'biparti': 494,\n",
       " 'ivankatrump': 2144,\n",
       " 'happy': 1803,\n",
       " 'international': 2095,\n",
       " 'iwd2019': 2145,\n",
       " 'wgdp': 4413,\n",
       " 'usaid': 4253,\n",
       " 'repjerrynadler': 3309,\n",
       " 'tired': 4078,\n",
       " 'watching': 4378,\n",
       " 'washington': 4371,\n",
       " 'up': 4242,\n",
       " 'damage': 1019,\n",
       " 'done': 1233,\n",
       " 'badly': 411,\n",
       " 'broken': 573,\n",
       " 'much': 2614,\n",
       " 'bad': 410,\n",
       " 'greater': 1747,\n",
       " 'fact': 1469,\n",
       " 'check': 707,\n",
       " 'misrepresentations': 2562,\n",
       " 'during': 1269,\n",
       " 'tonight': 4091,\n",
       " 'dynamism': 1274,\n",
       " 'transformational': 4132,\n",
       " 'chairs': 682,\n",
       " 'chadhgriffin': 679,\n",
       " 'visionary': 4322,\n",
       " 'leadership': 2319,\n",
       " 'hrc': 1951,\n",
       " 'forefront': 1602,\n",
       " 'progress': 3061,\n",
       " 'jerrymoran': 2174,\n",
       " 'proposal': 3075,\n",
       " 'which': 4425,\n",
       " 'incorporates': 2032,\n",
       " 'provisions': 3103,\n",
       " 'similar': 3691,\n",
       " 'introduced': 2105,\n",
       " 'earlier': 1278,\n",
       " 'month': 2582,\n",
       " 'senrobportman': 3614,\n",
       " 'gopchairwoman': 1721,\n",
       " 'deny': 1115,\n",
       " 'roaring': 3438,\n",
       " 'fastest': 1503,\n",
       " 'gdp': 1673,\n",
       " 'growth': 1762,\n",
       " '13': 10,\n",
       " '1m': 30,\n",
       " 'job': 2184,\n",
       " 'openings': 2771,\n",
       " 'afternoon': 204,\n",
       " 'spoke': 3769,\n",
       " 'ambassador': 266,\n",
       " 'carlosvecchio': 644,\n",
       " 'venezuela': 4285,\n",
       " 'discussing': 1194,\n",
       " 'relationship': 3234,\n",
       " 'two': 4189,\n",
       " 'co': 778,\n",
       " 'truth': 4172,\n",
       " 'ag': 205,\n",
       " 'barr': 423,\n",
       " 'releasethereport': 3239,\n",
       " 'allow': 249,\n",
       " 'facts': 1471,\n",
       " 'known': 2270,\n",
       " 'guided': 1769,\n",
       " 'freedomcaucus': 1641,\n",
       " 'solut': 3722,\n",
       " 'tariffs': 3965,\n",
       " 'dumping': 1268,\n",
       " 'united': 4223,\n",
       " 'states': 3808,\n",
       " 'totally': 4099,\n",
       " 'revived': 3417,\n",
       " 'expanded': 1445,\n",
       " 'pl': 2921,\n",
       " 'dcexaminer': 1042,\n",
       " 'first': 1561,\n",
       " 'presidency': 3015,\n",
       " 'flipped': 1576,\n",
       " 'appeals': 314,\n",
       " 'majority': 2438,\n",
       " 'republican': 3365,\n",
       " 'appoin': 320,\n",
       " 'note': 2707,\n",
       " 'performing': 2896,\n",
       " 'oversight': 2821,\n",
       " 'duties': 1271,\n",
       " 'laid': 2287,\n",
       " 'kevin': 2246,\n",
       " 'corke': 931,\n",
       " 'foxnews': 1625,\n",
       " 'cohen': 783,\n",
       " 'already': 256,\n",
       " 'convicted': 923,\n",
       " 'perjury': 2899,\n",
       " 'fraud': 1636,\n",
       " 'recently': 3179,\n",
       " 'said': 3494,\n",
       " 'daca': 1016,\n",
       " 'were': 4410,\n",
       " 'parscale': 2839,\n",
       " 'just': 2221,\n",
       " 'fake': 1479,\n",
       " 'news': 2676,\n",
       " 'stories': 3846,\n",
       " 'several': 3643,\n",
       " 'sad': 3489,\n",
       " 'journalists': 2201,\n",
       " 'lost': 2406,\n",
       " 'integrity': 2083,\n",
       " 'oil': 2753,\n",
       " 'prices': 3028,\n",
       " 'too': 4092,\n",
       " 'high': 1868,\n",
       " 'opec': 2767,\n",
       " 'please': 2937,\n",
       " 'relax': 3235,\n",
       " 'easy': 1287,\n",
       " 'world': 4490,\n",
       " 'cannot': 632,\n",
       " 'hike': 1872,\n",
       " 'fragile': 1628,\n",
       " 'geraldorivera': 1686,\n",
       " 'robertmueller': 3440,\n",
       " 'approaches': 331,\n",
       " 'end': 1342,\n",
       " 'interesting': 2091,\n",
       " 'little': 2378,\n",
       " 'trumpers': 4166,\n",
       " 'invoking': 2120,\n",
       " 'infamous': 2050,\n",
       " 'steeledossier': 3817,\n",
       " 'tabl': 3945,\n",
       " 'surges': 3918,\n",
       " '312': 65,\n",
       " 'december': 1056,\n",
       " 'patrol': 2866,\n",
       " 'agents': 215,\n",
       " 'fentanyl': 1531,\n",
       " 'bust': 595,\n",
       " '30': 62,\n",
       " 'passed': 2854,\n",
       " 'amendment': 269,\n",
       " 'prohibited': 3063,\n",
       " 'directors': 1177,\n",
       " 'multilateral': 2617,\n",
       " 'development': 1148,\n",
       " 'ba': 403,\n",
       " 'teamtrump': 3979,\n",
       " 'official': 2745,\n",
       " 'merchandise': 2523,\n",
       " 're': 3158,\n",
       " 'cpac': 960,\n",
       " 'booth': 532,\n",
       " 'tea': 3974,\n",
       " 'very': 4290,\n",
       " 'productive': 3055,\n",
       " 'talks': 3958,\n",
       " 'china': 717,\n",
       " 'trade': 4115,\n",
       " 'continue': 908,\n",
       " 'leaving': 2327,\n",
       " 'hanoi': 1795,\n",
       " 'vietnam': 4309,\n",
       " 'ear': 1277,\n",
       " 'repanniekuster': 3269,\n",
       " 'woman': 4472,\n",
       " 'nh': 2682,\n",
       " 'wrote': 4505,\n",
       " 'me': 2495,\n",
       " 'impacted': 2006,\n",
       " 'daughters': 1033,\n",
       " 'tremendously': 4150,\n",
       " 'without': 4468,\n",
       " 'financ': 1547,\n",
       " 'funny': 1656,\n",
       " 'thing': 4031,\n",
       " 'everybody': 1414,\n",
       " 'wanted': 4359,\n",
       " 'him': 1876,\n",
       " 'democrat': 1107,\n",
       " 'alike': 241,\n",
       " 'rigged': 3427,\n",
       " 'bot': 538,\n",
       " 'congratulations': 871,\n",
       " 'repkclark': 3320,\n",
       " 'elected': 1310,\n",
       " 'vice': 4302,\n",
       " 'there': 4026,\n",
       " 'depths': 1120,\n",
       " 'cruelty': 995,\n",
       " 'rely': 3245,\n",
       " 'congressman': 875,\n",
       " 'adam': 157,\n",
       " 'smith': 3710,\n",
       " 'armed': 348,\n",
       " 'services': 3636,\n",
       " 'stated': 3804,\n",
       " 'yes': 4514,\n",
       " 'provi': 3097,\n",
       " 'gov': 1727,\n",
       " 'ricardorossello': 3420,\n",
       " 'welcomed': 4406,\n",
       " 'congressional': 874,\n",
       " 'delegation': 1088,\n",
       " 'juan': 2208,\n",
       " 'discussed': 1192,\n",
       " 'ways': 4382,\n",
       " 'read': 3161,\n",
       " 'kimstrassel': 2256,\n",
       " 'national': 2643,\n",
       " 'emergency': 1329,\n",
       " 'equal': 1382,\n",
       " 'excuse': 1433,\n",
       " 'continuing': 911,\n",
       " 'holding': 1899,\n",
       " 'weekly': 4399,\n",
       " 'press': 3018,\n",
       " 'conference': 860,\n",
       " 'tune': 4178,\n",
       " 'here': 1858,\n",
       " 'thread': 4048,\n",
       " 'near': 2649,\n",
       " 'historic': 1884,\n",
       " 'number': 2716,\n",
       " 'seven': 3642,\n",
       " 'denied': 1112,\n",
       " 'pay': 2874,\n",
       " 'raises': 3140,\n",
       " 'ceos': 671,\n",
       " 'wealthy': 4391,\n",
       " 'shar': 3653,\n",
       " 'repkarenbass': 3317,\n",
       " 'week': 4397,\n",
       " 'would': 4496,\n",
       " 'give': 1695,\n",
       " 'tax': 3969,\n",
       " 'breaks': 558,\n",
       " 'wealthiest': 4390,\n",
       " 'wh': 4414,\n",
       " 'disgraced': 1198,\n",
       " 'acting': 146,\n",
       " 'director': 1176,\n",
       " 'andrew': 287,\n",
       " 'mccabe': 2488,\n",
       " 'pretends': 3022,\n",
       " 'poor': 2965,\n",
       " 'angel': 288,\n",
       " 'part': 2840,\n",
       " 'whiphoyer': 4429,\n",
       " 'senate': 3591,\n",
       " 'enormous': 1360,\n",
       " 'task': 3966,\n",
       " 'once': 2758,\n",
       " 'again': 206,\n",
       " 'considering': 890,\n",
       " 'scotuspick': 3544,\n",
       " 'whatsatstake': 4418,\n",
       " 'nomina': 2692,\n",
       " 'speakerpelosi': 3753,\n",
       " 'statements': 3807,\n",
       " 'vs': 4342,\n",
       " 'impeachment': 2010,\n",
       " 'refreshing': 3209,\n",
       " 'conciliatory': 849,\n",
       " 'conclusion': 850,\n",
       " 'attempting': 385,\n",
       " 'remove': 3252,\n",
       " 'reald': 3165,\n",
       " 'repcummings': 3283,\n",
       " 'aiding': 226,\n",
       " 'abetting': 112,\n",
       " 'cultureofcorruption': 998,\n",
       " 'refusing': 3215,\n",
       " 'jim': 2178,\n",
       " 'jordan': 2197,\n",
       " 'why': 4439,\n",
       " 'did': 1159,\n",
       " 'adamschiff': 158,\n",
       " 'say': 3515,\n",
       " 'limited': 2367,\n",
       " 'inviting': 2119,\n",
       " 'allaying': 243,\n",
       " 'concerns': 846,\n",
       " 'thre': 4047,\n",
       " 'control': 918,\n",
       " 'power': 2989,\n",
       " 'open': 2768,\n",
       " 'defender': 1080,\n",
       " 'putting': 3121,\n",
       " 'thank': 4013,\n",
       " 'mr': 2606,\n",
       " 'am': 261,\n",
       " 'exactly': 1422,\n",
       " 'pledged': 2942,\n",
       " 'citizens': 738,\n",
       " 'jus': 2219,\n",
       " 'maga': 2434,\n",
       " 'list': 2375,\n",
       " '205': 48,\n",
       " 'results': 3398,\n",
       " 'help': 1850,\n",
       " 'make': 2439,\n",
       " 'case': 652,\n",
       " '2020': 44,\n",
       " 'election': 1311,\n",
       " 'uncertainty': 4200,\n",
       " 'economic': 1291,\n",
       " 'security': 3568,\n",
       " 'deeply': 1075,\n",
       " 'disturbin': 1208,\n",
       " 'kidding': 2248,\n",
       " 'themselves': 4024,\n",
       " 'stop': 3837,\n",
       " 'traff': 4118,\n",
       " 'declared': 1067,\n",
       " 'war': 4362,\n",
       " 'affordable': 195,\n",
       " 'dependable': 1118,\n",
       " 'courts': 955,\n",
       " 'child': 715,\n",
       " 'loving': 2417,\n",
       " 'because': 440,\n",
       " 'wishes': 4462,\n",
       " 'adopt': 180,\n",
       " 'lgbtq': 2351,\n",
       " 'religious': 3244,\n",
       " 'minori': 2554,\n",
       " 'repdinatitus': 3293,\n",
       " 'kavanaugh': 2228,\n",
       " 'nomination': 2694,\n",
       " 'clear': 755,\n",
       " 'threat': 4049,\n",
       " 'colleagues': 791,\n",
       " 'stopkav': 3838,\n",
       " 'yourself': 4521,\n",
       " 'go': 1706,\n",
       " 'arena': 345,\n",
       " 'understand': 4208,\n",
       " 'msnbc': 2611,\n",
       " 'amy': 282,\n",
       " 'kremer': 2274,\n",
       " 'founder': 1619,\n",
       " 'such': 3897,\n",
       " 'interview': 2098,\n",
       " 'martha': 2472,\n",
       " 'maccallum': 2430,\n",
       " 'll': 2383,\n",
       " 'danabashcnn': 1022,\n",
       " 'few': 1534,\n",
       " 'moments': 2575,\n",
       " 'theatlanticfest': 4019,\n",
       " 'danscavino': 1027,\n",
       " 'happening': 1801,\n",
       " 'overflow': 2816,\n",
       " 'crowd': 989,\n",
       " 'paso': 2851,\n",
       " 'texas': 4007,\n",
       " 'desperate': 1129,\n",
       " 'subject': 3885,\n",
       " 'immigration': 2003,\n",
       " '158': 15,\n",
       " 'kavanaughhearings': 2229,\n",
       " 'featuring': 1518,\n",
       " 'dr': 1246,\n",
       " 'christine': 728,\n",
       " 'blasey': 505,\n",
       " 'ford': 1600,\n",
       " 'applaud': 317,\n",
       " 'governor': 1730,\n",
       " 'lujan': 2423,\n",
       " 'grisham': 1758,\n",
       " 'signing': 3689,\n",
       " 'sb8': 3518,\n",
       " 'commonsense': 823,\n",
       " 'ideas': 1978,\n",
       " 'backg': 407,\n",
       " 'unfortunately': 4215,\n",
       " 'keeps': 2236,\n",
       " 'rejecting': 3231,\n",
       " 'bills': 492,\n",
       " 'received': 3177,\n",
       " 'stro': 3867,\n",
       " 'source': 3742,\n",
       " 'potential': 2984,\n",
       " 'conflict': 865,\n",
       " 'testing': 4006,\n",
       " 'coming': 809,\n",
       " 'living': 2382,\n",
       " 'impacts': 2008,\n",
       " 'policies': 2954,\n",
       " 'joined': 2193,\n",
       " 'pres': 3007,\n",
       " 'breaking': 557,\n",
       " 'contradicts': 915,\n",
       " 'testimony': 4005,\n",
       " ...}"
      ]
     },
     "execution_count": 69,
     "metadata": {},
     "output_type": "execute_result"
    }
   ],
   "source": [
    "# 'vocabulary_' is a dictionary that converts each word to its index in the sparse matrix\n",
    "print('Number of features (unique words):', len(vect.vocabulary_))\n",
    "vect.vocabulary_"
   ]
  },
  {
   "cell_type": "markdown",
   "metadata": {},
   "source": [
    "Multinomial Naive Bayes classifier (text features only with non-negative values)\n",
    "- Note: MultinomialNB does not accept negative values (i.e., sentiment feature)"
   ]
  },
  {
   "cell_type": "code",
   "execution_count": 70,
   "metadata": {},
   "outputs": [
    {
     "name": "stdout",
     "output_type": "stream",
     "text": [
      "Testing accuracy score: 0.873\n"
     ]
    }
   ],
   "source": [
    "# Instantiate a Naive Bayes classifier for multinomial models and fit Naive Bayes classifier according to X, y\n",
    "mnb = MultinomialNB()\n",
    "mnb.fit(X_train_dtm, y_train)\n",
    "\n",
    "# Predict the class using the Multinomial Naive Bayes classifier\n",
    "y_pred_class = mnb.predict(X_test_dtm)\n",
    "\n",
    "# Testing accuracy classification score\n",
    "print('Testing accuracy score:', round(metrics.accuracy_score(y_test, y_pred_class), 3))"
   ]
  },
  {
   "cell_type": "markdown",
   "metadata": {},
   "source": [
    "Gaussian Naive Bayes classifier (text features and additional features which may include negative values)"
   ]
  },
  {
   "cell_type": "code",
   "execution_count": 71,
   "metadata": {},
   "outputs": [
    {
     "name": "stdout",
     "output_type": "stream",
     "text": [
      "Testing accuracy score: 0.858\n"
     ]
    }
   ],
   "source": [
    "# Instantiate a Gaussian Naive Bayes classifier and fit Gaussian Naive Bayes classifier according to X, y\n",
    "gnb = GaussianNB()\n",
    "gnb.fit(X_train_dtm_extra.toarray(), y_train)\n",
    "    \n",
    "# Predict the class using the Gaussian Naive Bayes classifier\n",
    "y_pred_class = gnb.predict(X_test_dtm_extra.toarray())\n",
    "    \n",
    "# Testing accuracy classification score\n",
    "print('Testing accuracy score:', round(metrics.accuracy_score(y_test, y_pred_class), 3))"
   ]
  },
  {
   "cell_type": "markdown",
   "metadata": {},
   "source": [
    "Logistic Regression classifier (text features and additional features which may include negative values)"
   ]
  },
  {
   "cell_type": "code",
   "execution_count": 72,
   "metadata": {},
   "outputs": [
    {
     "name": "stdout",
     "output_type": "stream",
     "text": [
      "Testing accuracy score: 0.877\n"
     ]
    }
   ],
   "source": [
    "# Instantiate a Logistic Regression classifier and fit logistic model\n",
    "logreg = LogisticRegression()\n",
    "logreg.fit(X_train_dtm_extra, y_train)  \n",
    "\n",
    "# Predict the class using the logistic model\n",
    "y_pred_class = logreg.predict(X_test_dtm_extra)\n",
    "\n",
    "# Testing accuracy classification score\n",
    "print('Testing accuracy score:', round(metrics.accuracy_score(y_test, y_pred_class), 3))"
   ]
  },
  {
   "cell_type": "markdown",
   "metadata": {},
   "source": [
    "#### Use Naive Bayes classifier for multinomial models with text feature columns only"
   ]
  },
  {
   "cell_type": "code",
   "execution_count": 73,
   "metadata": {
    "slideshow": {
     "slide_type": "subslide"
    }
   },
   "outputs": [],
   "source": [
    "# Define a function that accepts a vectorizer and calculates the accuracy\n",
    "def tokenize_test_mnb(vect):\n",
    "    print()\n",
    "    # Learn the vocabulary dictionary and return term-document matrix\n",
    "    # -> This is equivalent to fit followed by transform, but more efficiently implemented\n",
    "    X_train_dtm = vect.fit_transform(X_train.clean_text) \n",
    "    \n",
    "    # Transform documents to document-term matrix\n",
    "    # -> Extract token counts out of raw text documents using the vocabulary fitted with fit or the one provided to the constructor\n",
    "    X_test_dtm = vect.transform(X_test.clean_text)\n",
    "    \n",
    "    print('Multinomial Naive Bayes classifier (text features only with non-negative values)')\n",
    "    \n",
    "    # Instantiate a Naive Bayes classifier for multinomial models and fit Naive Bayes classifier according to X, y\n",
    "    mnb = MultinomialNB()\n",
    "    mnb.fit(X_train_dtm, y_train)\n",
    "    \n",
    "    # Return the number of columns (terms (aka \"tokens\" or \"features\"; individual words in this situation)) of the DataFrame\n",
    "    print('Features: {}'.format(X_train_dtm.shape[1]))\n",
    "    \n",
    "    # Predict the class using the Naive Bayes classifier\n",
    "    y_pred_class = mnb.predict(X_test_dtm)\n",
    "    \n",
    "    # Testing accuracy classification score\n",
    "    print('Testing accuracy score:', round(metrics.accuracy_score(y_test, y_pred_class), 3))"
   ]
  },
  {
   "cell_type": "markdown",
   "metadata": {},
   "source": [
    "#### Use Gaussian Naive Bayes classifier with all feature columns (may include negative values)"
   ]
  },
  {
   "cell_type": "code",
   "execution_count": 74,
   "metadata": {
    "slideshow": {
     "slide_type": "subslide"
    }
   },
   "outputs": [],
   "source": [
    "# Define a function that accepts a vectorizer and calculates the accuracy\n",
    "def tokenize_test_gnb(vect):\n",
    "    print()\n",
    "    # Learn the vocabulary dictionary and return term-document matrix\n",
    "    # -> This is equivalent to fit followed by transform, but more efficiently implemented\n",
    "    X_train_dtm = vect.fit_transform(X_train.clean_text) \n",
    "    \n",
    "    # Transform documents to document-term matrix\n",
    "    # -> Extract token counts out of raw text documents using the vocabulary fitted with fit or the one provided to the constructor\n",
    "    X_test_dtm = vect.transform(X_test.clean_text)\n",
    "    \n",
    "    # Training set -> Cast other feature columns to float and convert to a sparse matrix\n",
    "    # Compressed Sparse Row matrix\n",
    "    extra = sp.sparse.csr_matrix(X_train.drop('clean_text', axis=1).astype(float))\n",
    "\n",
    "    # Combine sparse matrices\n",
    "    # -> Stack sparse matrices horizontally (column wise)\n",
    "    X_train_dtm_extra = sp.sparse.hstack((X_train_dtm, extra))\n",
    "\n",
    "    # Testing set -> Cast other feature columns to float and convert to a sparse matrix\n",
    "    # Compressed Sparse Row matrix\n",
    "    extra = sp.sparse.csr_matrix(X_test.drop('clean_text', axis=1).astype(float))\n",
    "    \n",
    "    # Combine sparse matrices\n",
    "    # -> Stack sparse matrices horizontally (column wise)\n",
    "    X_test_dtm_extra = sp.sparse.hstack((X_test_dtm, extra))\n",
    "    \n",
    "    print('Gaussian Naive Bayes classifier (text features and additional features which may include negative values)')\n",
    "    \n",
    "    # Instantiate a Gaussian Naive Bayes classifier and fit Gaussian Naive Bayes classifier according to X, y\n",
    "    gnb = GaussianNB()\n",
    "    gnb.fit(X_train_dtm_extra.toarray(), y_train)\n",
    "    \n",
    "    # Return the number of columns (terms (aka \"tokens\" or \"features\"; individual words in this situation)) of the DataFrame\n",
    "    print('Features: {}'.format(X_train_dtm_extra.shape[1]))\n",
    "    \n",
    "    # Predict the class using the Gaussian Naive Bayes classifier\n",
    "    y_pred_class = gnb.predict(X_test_dtm_extra.toarray())\n",
    "    \n",
    "    # Testing accuracy classification score\n",
    "    print('Testing accuracy score:', round(metrics.accuracy_score(y_test, y_pred_class), 3))"
   ]
  },
  {
   "cell_type": "markdown",
   "metadata": {},
   "source": [
    "#### Use Logistic Regression classifier with all feature columns (may include negative values)"
   ]
  },
  {
   "cell_type": "code",
   "execution_count": 75,
   "metadata": {
    "slideshow": {
     "slide_type": "subslide"
    }
   },
   "outputs": [],
   "source": [
    "# Define a function that accepts a vectorizer and calculates the accuracy\n",
    "def tokenize_test_logreg(vect):\n",
    "    print()\n",
    "    # Learn the vocabulary dictionary and return term-document matrix\n",
    "    # -> This is equivalent to fit followed by transform, but more efficiently implemented\n",
    "    X_train_dtm = vect.fit_transform(X_train.clean_text) \n",
    "    \n",
    "    # Transform documents to document-term matrix\n",
    "    # -> Extract token counts out of raw text documents using the vocabulary fitted with fit or the one provided to the constructor\n",
    "    X_test_dtm = vect.transform(X_test.clean_text)\n",
    "    \n",
    "    # Training set -> Cast other feature columns to float and convert to a sparse matrix\n",
    "    # Compressed Sparse Row matrix\n",
    "    extra = sp.sparse.csr_matrix(X_train.drop('clean_text', axis=1).astype(float))\n",
    "\n",
    "    # Combine sparse matrices\n",
    "    # -> Stack sparse matrices horizontally (column wise)\n",
    "    X_train_dtm_extra = sp.sparse.hstack((X_train_dtm, extra))\n",
    "\n",
    "    # Testing set -> Cast other feature columns to float and convert to a sparse matrix\n",
    "    # Compressed Sparse Row matrix\n",
    "    extra = sp.sparse.csr_matrix(X_test.drop('clean_text', axis=1).astype(float))\n",
    "    \n",
    "    # Combine sparse matrices\n",
    "    # -> Stack sparse matrices horizontally (column wise)\n",
    "    X_test_dtm_extra = sp.sparse.hstack((X_test_dtm, extra))\n",
    "    \n",
    "    print('Logistic Regression classifier (text features and additional features which may include negative values)')\n",
    "    \n",
    "    # Instantiate a Logistic Regression classifier and fit logistic model\n",
    "    logreg = LogisticRegression()\n",
    "    logreg.fit(X_train_dtm_extra, y_train)  \n",
    "    \n",
    "    # Return the number of columns (terms (aka \"tokens\" or \"features\"; individual words in this situation)) of the DataFrame\n",
    "    print('Features: {}'.format(X_train_dtm_extra.shape[1]))\n",
    "    \n",
    "    # Predict the class using the logistic model\n",
    "    y_pred_class = logreg.predict(X_test_dtm_extra)\n",
    "    \n",
    "    # Testing accuracy classification score\n",
    "    print('Testing accuracy score:', round(metrics.accuracy_score(y_test, y_pred_class), 3))"
   ]
  },
  {
   "cell_type": "markdown",
   "metadata": {},
   "source": [
    "### Creating Features Using CountVectorizer"
   ]
  },
  {
   "cell_type": "markdown",
   "metadata": {},
   "source": [
    "#### Including 1-Grams"
   ]
  },
  {
   "cell_type": "code",
   "execution_count": 76,
   "metadata": {},
   "outputs": [
    {
     "name": "stdout",
     "output_type": "stream",
     "text": [
      "\u001b[4m1-grams only:\u001b[0m\n",
      "\n",
      "Multinomial Naive Bayes classifier (text features only with non-negative values)\n",
      "Features: 4531\n",
      "Testing accuracy score: 0.873\n",
      "\n",
      "Gaussian Naive Bayes classifier (text features and additional features which may include negative values)\n",
      "Features: 4532\n",
      "Testing accuracy score: 0.858\n",
      "\n",
      "Logistic Regression classifier (text features and additional features which may include negative values)\n",
      "Features: 4532\n",
      "Testing accuracy score: 0.877\n",
      "\u001b[4m\n",
      "1-grams only, remove stop words:\u001b[0m\n",
      "\n",
      "Multinomial Naive Bayes classifier (text features only with non-negative values)\n",
      "Features: 4299\n",
      "Testing accuracy score: 0.87\n",
      "\n",
      "Gaussian Naive Bayes classifier (text features and additional features which may include negative values)\n",
      "Features: 4300\n",
      "Testing accuracy score: 0.845\n",
      "\n",
      "Logistic Regression classifier (text features and additional features which may include negative values)\n",
      "Features: 4300\n",
      "Testing accuracy score: 0.888\n",
      "\u001b[4m\n",
      "1-grams only, remove stop words, only include terms that appear at least two times:\u001b[0m\n",
      "\n",
      "Multinomial Naive Bayes classifier (text features only with non-negative values)\n",
      "Features: 1820\n",
      "Testing accuracy score: 0.865\n",
      "\n",
      "Gaussian Naive Bayes classifier (text features and additional features which may include negative values)\n",
      "Features: 1821\n",
      "Testing accuracy score: 0.832\n",
      "\n",
      "Logistic Regression classifier (text features and additional features which may include negative values)\n",
      "Features: 1821\n",
      "Testing accuracy score: 0.885\n",
      "\u001b[4m\n",
      "1-grams only, remove stop words, up to 5000 features:\u001b[0m\n",
      "\n",
      "Multinomial Naive Bayes classifier (text features only with non-negative values)\n",
      "Features: 4299\n",
      "Testing accuracy score: 0.87\n",
      "\n",
      "Gaussian Naive Bayes classifier (text features and additional features which may include negative values)\n",
      "Features: 4300\n",
      "Testing accuracy score: 0.845\n",
      "\n",
      "Logistic Regression classifier (text features and additional features which may include negative values)\n",
      "Features: 4300\n",
      "Testing accuracy score: 0.888\n"
     ]
    }
   ],
   "source": [
    "# Instantiate CountVectorizer to convert a collection of text documents to a matrix of token counts\n",
    "# -> This implementation produces a sparse representation of the counts using scipy.sparse.csr_matrix\n",
    "# Note: lowercase: convert all characters to lowercase before tokenizing; default is True\n",
    "#       stop_words: if 'english', a built-in stop word list for English is used; default is None\n",
    "#       ngram_range: tuple (min_n, max_n); the lower and upper boundary of the range of n-values for \n",
    "#                    different n-grams to be extracted; all values of n such that min_n <= n <= max_n will be used\n",
    "#       min_df: when building the vocabulary ignore terms that have a 'document frequency' strictly lower than the \n",
    "#               given threshold; this value is also called cut-off in the literature\n",
    "#       max_features: build a vocabulary that only considers the top max_features ordered by term frequency across the corpus\n",
    "print('\\033[4m' + '1-grams only:' +  '\\033[0m')\n",
    "vect = CountVectorizer(lowercase=True, ngram_range=(1, 1))\n",
    "tokenize_test_mnb(vect)\n",
    "tokenize_test_gnb(vect)\n",
    "tokenize_test_logreg(vect)\n",
    "\n",
    "print('\\033[4m' + '\\n1-grams only, remove stop words:' +  '\\033[0m')\n",
    "vect = CountVectorizer(lowercase=True, stop_words='english', ngram_range=(1, 1))\n",
    "tokenize_test_mnb(vect)\n",
    "tokenize_test_gnb(vect)\n",
    "tokenize_test_logreg(vect)\n",
    "\n",
    "print('\\033[4m' + '\\n1-grams only, remove stop words, only include terms that appear at least two times:' +  '\\033[0m')\n",
    "vect = CountVectorizer(lowercase=True, stop_words='english', ngram_range=(1, 1), min_df=2)\n",
    "tokenize_test_mnb(vect)\n",
    "tokenize_test_gnb(vect)\n",
    "tokenize_test_logreg(vect)\n",
    "\n",
    "print('\\033[4m' + '\\n1-grams only, remove stop words, up to 5000 features:' +  '\\033[0m')\n",
    "vect = CountVectorizer(lowercase=True, stop_words='english', ngram_range=(1, 1), max_features=5000)\n",
    "tokenize_test_mnb(vect)\n",
    "tokenize_test_gnb(vect)\n",
    "tokenize_test_logreg(vect)"
   ]
  },
  {
   "cell_type": "code",
   "execution_count": 77,
   "metadata": {},
   "outputs": [],
   "source": [
    "# Get the effective stop words list\n",
    "#print('Number of stop words:', len(vect.get_stop_words()))\n",
    "#print(vect.get_stop_words())"
   ]
  },
  {
   "cell_type": "markdown",
   "metadata": {},
   "source": [
    "#### Including 1-Grams and 2-Grams"
   ]
  },
  {
   "cell_type": "code",
   "execution_count": 78,
   "metadata": {},
   "outputs": [
    {
     "name": "stdout",
     "output_type": "stream",
     "text": [
      "\u001b[4m1-grams and 2-grams:\u001b[0m\n",
      "\n",
      "Multinomial Naive Bayes classifier (text features only with non-negative values)\n",
      "Features: 20934\n",
      "Testing accuracy score: 0.887\n",
      "\n",
      "Gaussian Naive Bayes classifier (text features and additional features which may include negative values)\n",
      "Features: 20935\n",
      "Testing accuracy score: 0.895\n",
      "\n",
      "Logistic Regression classifier (text features and additional features which may include negative values)\n",
      "Features: 20935\n",
      "Testing accuracy score: 0.863\n",
      "\u001b[4m\n",
      "1-grams and 2-grams, remove stop words:\u001b[0m\n",
      "\n",
      "Multinomial Naive Bayes classifier (text features only with non-negative values)\n",
      "Features: 15686\n",
      "Testing accuracy score: 0.875\n",
      "\n",
      "Gaussian Naive Bayes classifier (text features and additional features which may include negative values)\n",
      "Features: 15687\n",
      "Testing accuracy score: 0.867\n",
      "\n",
      "Logistic Regression classifier (text features and additional features which may include negative values)\n",
      "Features: 15687\n",
      "Testing accuracy score: 0.885\n",
      "\u001b[4m\n",
      "1-grams and 2-grams, remove stop words, only include terms that appear at least two times:\u001b[0m\n",
      "\n",
      "Multinomial Naive Bayes classifier (text features only with non-negative values)\n",
      "Features: 2856\n",
      "Testing accuracy score: 0.867\n",
      "\n",
      "Gaussian Naive Bayes classifier (text features and additional features which may include negative values)\n",
      "Features: 2857\n",
      "Testing accuracy score: 0.845\n",
      "\n",
      "Logistic Regression classifier (text features and additional features which may include negative values)\n",
      "Features: 2857\n",
      "Testing accuracy score: 0.888\n",
      "\u001b[4m\n",
      "1-grams and 2-grams, remove stop words, up to 2760 features:\u001b[0m\n",
      "\n",
      "Multinomial Naive Bayes classifier (text features only with non-negative values)\n",
      "Features: 2760\n",
      "Testing accuracy score: 0.867\n",
      "\n",
      "Gaussian Naive Bayes classifier (text features and additional features which may include negative values)\n",
      "Features: 2761\n",
      "Testing accuracy score: 0.845\n",
      "\n",
      "Logistic Regression classifier (text features and additional features which may include negative values)\n",
      "Features: 2761\n",
      "Testing accuracy score: 0.885\n"
     ]
    }
   ],
   "source": [
    "# Instantiate CountVectorizer to convert a collection of text documents to a matrix of token counts\n",
    "# -> This implementation produces a sparse representation of the counts using scipy.sparse.csr_matrix\n",
    "# Note: lowercase: convert all characters to lowercase before tokenizing; default is True\n",
    "#       stop_words: if 'english', a built-in stop word list for English is used; default is None\n",
    "#       ngram_range: tuple (min_n, max_n); the lower and upper boundary of the range of n-values for \n",
    "#                    different n-grams to be extracted; all values of n such that min_n <= n <= max_n will be used\n",
    "#       min_df: when building the vocabulary ignore terms that have a 'document frequency' strictly lower than the \n",
    "#               given threshold; this value is also called cut-off in the literature\n",
    "#       max_features: build a vocabulary that only considers the top max_features ordered by term frequency across the corpus\n",
    "print('\\033[4m' + '1-grams and 2-grams:' +  '\\033[0m')\n",
    "vect = CountVectorizer(lowercase=True, ngram_range=(1, 2))\n",
    "tokenize_test_mnb(vect)\n",
    "tokenize_test_gnb(vect)\n",
    "tokenize_test_logreg(vect)\n",
    "\n",
    "print('\\033[4m' + '\\n1-grams and 2-grams, remove stop words:' +  '\\033[0m')\n",
    "vect = CountVectorizer(lowercase=True, stop_words='english', ngram_range=(1, 2))\n",
    "tokenize_test_mnb(vect)\n",
    "tokenize_test_gnb(vect)\n",
    "tokenize_test_logreg(vect)\n",
    "\n",
    "print('\\033[4m' + '\\n1-grams and 2-grams, remove stop words, only include terms that appear at least two times:' +  '\\033[0m')\n",
    "vect = CountVectorizer(lowercase=True, stop_words='english', ngram_range=(1, 2), min_df=2)\n",
    "tokenize_test_mnb(vect)\n",
    "tokenize_test_gnb(vect)\n",
    "tokenize_test_logreg(vect)\n",
    "\n",
    "print('\\033[4m' + '\\n1-grams and 2-grams, remove stop words, up to 2760 features:' +  '\\033[0m')\n",
    "vect = CountVectorizer(lowercase=True, stop_words='english', ngram_range=(1, 2), max_features=2760)\n",
    "tokenize_test_mnb(vect)\n",
    "tokenize_test_gnb(vect)\n",
    "tokenize_test_logreg(vect)"
   ]
  },
  {
   "cell_type": "markdown",
   "metadata": {},
   "source": [
    "### Creating Features Using TfidfVectorizer"
   ]
  },
  {
   "cell_type": "markdown",
   "metadata": {},
   "source": [
    "#### Including 1-Grams"
   ]
  },
  {
   "cell_type": "code",
   "execution_count": 79,
   "metadata": {},
   "outputs": [
    {
     "name": "stdout",
     "output_type": "stream",
     "text": [
      "\u001b[4m1-grams only:\u001b[0m\n",
      "\n",
      "Multinomial Naive Bayes classifier (text features only with non-negative values)\n",
      "Features: 4531\n",
      "Testing accuracy score: 0.907\n",
      "\n",
      "Gaussian Naive Bayes classifier (text features and additional features which may include negative values)\n",
      "Features: 4532\n",
      "Testing accuracy score: 0.83\n",
      "\n",
      "Logistic Regression classifier (text features and additional features which may include negative values)\n",
      "Features: 4532\n",
      "Testing accuracy score: 0.863\n",
      "\u001b[4m\n",
      "1-grams only, remove stop words:\u001b[0m\n",
      "\n",
      "Multinomial Naive Bayes classifier (text features only with non-negative values)\n",
      "Features: 4299\n",
      "Testing accuracy score: 0.903\n",
      "\n",
      "Gaussian Naive Bayes classifier (text features and additional features which may include negative values)\n",
      "Features: 4300\n",
      "Testing accuracy score: 0.825\n",
      "\n",
      "Logistic Regression classifier (text features and additional features which may include negative values)\n",
      "Features: 4300\n",
      "Testing accuracy score: 0.9\n",
      "\u001b[4m\n",
      "1-grams only, remove stop words, only include terms that appear at least two times:\u001b[0m\n",
      "\n",
      "Multinomial Naive Bayes classifier (text features only with non-negative values)\n",
      "Features: 1820\n",
      "Testing accuracy score: 0.885\n",
      "\n",
      "Gaussian Naive Bayes classifier (text features and additional features which may include negative values)\n",
      "Features: 1821\n",
      "Testing accuracy score: 0.832\n",
      "\n",
      "Logistic Regression classifier (text features and additional features which may include negative values)\n",
      "Features: 1821\n",
      "Testing accuracy score: 0.9\n",
      "\u001b[4m\n",
      "1-grams only, remove stop words, up to 2700 features:\u001b[0m\n",
      "\n",
      "Multinomial Naive Bayes classifier (text features only with non-negative values)\n",
      "Features: 2700\n",
      "Testing accuracy score: 0.893\n",
      "\n",
      "Gaussian Naive Bayes classifier (text features and additional features which may include negative values)\n",
      "Features: 2701\n",
      "Testing accuracy score: 0.83\n",
      "\n",
      "Logistic Regression classifier (text features and additional features which may include negative values)\n",
      "Features: 2701\n",
      "Testing accuracy score: 0.897\n"
     ]
    }
   ],
   "source": [
    "# Instantiate TfidfVectorizer to convert a collection of raw documents to a matrix of TF-IDF features\n",
    "# -> Equivalent to CountVectorizer followed by TfidfTransformer\n",
    "# Note: lowercase: convert all characters to lowercase before tokenizing; default is True\n",
    "#       stop_words: if 'english', a built-in stop word list for English is used; default is None\n",
    "#       ngram_range: tuple (min_n, max_n); the lower and upper boundary of the range of n-values for \n",
    "#                    different n-grams to be extracted; all values of n such that min_n <= n <= max_n will be used\n",
    "#       min_df: when building the vocabulary ignore terms that have a 'document frequency' strictly lower than the \n",
    "#               given threshold; this value is also called cut-off in the literature\n",
    "#       max_features: build a vocabulary that only considers the top max_features ordered by term frequency across the corpus\n",
    "print('\\033[4m' + '1-grams only:' +  '\\033[0m')\n",
    "vect = TfidfVectorizer(lowercase=True, ngram_range=(1, 1))\n",
    "tokenize_test_mnb(vect)\n",
    "tokenize_test_gnb(vect)\n",
    "tokenize_test_logreg(vect)\n",
    "\n",
    "print('\\033[4m' + '\\n1-grams only, remove stop words:' +  '\\033[0m')\n",
    "vect = TfidfVectorizer(lowercase=True, stop_words='english', ngram_range=(1, 1))\n",
    "tokenize_test_mnb(vect)\n",
    "tokenize_test_gnb(vect)\n",
    "tokenize_test_logreg(vect)\n",
    "\n",
    "print('\\033[4m' + '\\n1-grams only, remove stop words, only include terms that appear at least two times:' +  '\\033[0m')\n",
    "vect = TfidfVectorizer(lowercase=True, stop_words='english', ngram_range=(1, 1), min_df=2)\n",
    "tokenize_test_mnb(vect)\n",
    "tokenize_test_gnb(vect)\n",
    "tokenize_test_logreg(vect)\n",
    "\n",
    "print('\\033[4m' + '\\n1-grams only, remove stop words, up to 2700 features:' +  '\\033[0m')\n",
    "vect = TfidfVectorizer(lowercase=True, stop_words='english', ngram_range=(1, 1), max_features=2700)\n",
    "tokenize_test_mnb(vect)\n",
    "tokenize_test_gnb(vect)\n",
    "tokenize_test_logreg(vect)"
   ]
  },
  {
   "cell_type": "code",
   "execution_count": 80,
   "metadata": {},
   "outputs": [],
   "source": [
    "# Get the effective stop words list\n",
    "#print('Number of stop words:', len(vect.get_stop_words()))\n",
    "#print(vect.get_stop_words())"
   ]
  },
  {
   "cell_type": "markdown",
   "metadata": {},
   "source": [
    "#### Including 1-Grams and 2-Grams"
   ]
  },
  {
   "cell_type": "code",
   "execution_count": 81,
   "metadata": {},
   "outputs": [
    {
     "name": "stdout",
     "output_type": "stream",
     "text": [
      "\u001b[4m1-grams and 2-grams:\u001b[0m\n",
      "\n",
      "Multinomial Naive Bayes classifier (text features only with non-negative values)\n",
      "Features: 20934\n",
      "Testing accuracy score: 0.915\n",
      "\n",
      "Gaussian Naive Bayes classifier (text features and additional features which may include negative values)\n",
      "Features: 20935\n",
      "Testing accuracy score: 0.875\n",
      "\n",
      "Logistic Regression classifier (text features and additional features which may include negative values)\n",
      "Features: 20935\n",
      "Testing accuracy score: 0.882\n",
      "\u001b[4m\n",
      "1-grams and 2-grams, remove stop words:\u001b[0m\n",
      "\n",
      "Multinomial Naive Bayes classifier (text features only with non-negative values)\n",
      "Features: 15686\n",
      "Testing accuracy score: 0.9\n",
      "\n",
      "Gaussian Naive Bayes classifier (text features and additional features which may include negative values)\n",
      "Features: 15687\n",
      "Testing accuracy score: 0.868\n",
      "\n",
      "Logistic Regression classifier (text features and additional features which may include negative values)\n",
      "Features: 15687\n",
      "Testing accuracy score: 0.9\n",
      "\u001b[4m\n",
      "1-grams and 2-grams, remove stop words, only include terms that appear at least two times:\u001b[0m\n",
      "\n",
      "Multinomial Naive Bayes classifier (text features only with non-negative values)\n",
      "Features: 2856\n",
      "Testing accuracy score: 0.887\n",
      "\n",
      "Gaussian Naive Bayes classifier (text features and additional features which may include negative values)\n",
      "Features: 2857\n",
      "Testing accuracy score: 0.845\n",
      "\n",
      "Logistic Regression classifier (text features and additional features which may include negative values)\n",
      "Features: 2857\n",
      "Testing accuracy score: 0.907\n",
      "\u001b[4m\n",
      "1-grams and 2-grams, remove stop words, up to 9000 features:\u001b[0m\n",
      "\n",
      "Multinomial Naive Bayes classifier (text features only with non-negative values)\n",
      "Features: 9000\n",
      "Testing accuracy score: 0.892\n",
      "\n",
      "Gaussian Naive Bayes classifier (text features and additional features which may include negative values)\n",
      "Features: 9001\n",
      "Testing accuracy score: 0.858\n",
      "\n",
      "Logistic Regression classifier (text features and additional features which may include negative values)\n",
      "Features: 9001\n",
      "Testing accuracy score: 0.902\n"
     ]
    }
   ],
   "source": [
    "# Instantiate TfidfVectorizer to convert a collection of raw documents to a matrix of TF-IDF features\n",
    "# -> Equivalent to CountVectorizer followed by TfidfTransformer\n",
    "# Note: lowercase: convert all characters to lowercase before tokenizing; default is True\n",
    "#       stop_words: if 'english', a built-in stop word list for English is used; default is None\n",
    "#       ngram_range: tuple (min_n, max_n); the lower and upper boundary of the range of n-values for \n",
    "#                    different n-grams to be extracted; all values of n such that min_n <= n <= max_n will be used\n",
    "#       min_df: when building the vocabulary ignore terms that have a 'document frequency' strictly lower than the \n",
    "#               given threshold; this value is also called cut-off in the literature\n",
    "#       max_features: build a vocabulary that only considers the top max_features ordered by term frequency across the corpus\n",
    "print('\\033[4m' + '1-grams and 2-grams:' +  '\\033[0m')\n",
    "vect = TfidfVectorizer(lowercase=True, ngram_range=(1, 2))\n",
    "tokenize_test_mnb(vect)\n",
    "tokenize_test_gnb(vect)\n",
    "tokenize_test_logreg(vect)\n",
    "\n",
    "print('\\033[4m' + '\\n1-grams and 2-grams, remove stop words:' +  '\\033[0m')\n",
    "vect = TfidfVectorizer(lowercase=True, stop_words='english', ngram_range=(1, 2))\n",
    "tokenize_test_mnb(vect)\n",
    "tokenize_test_gnb(vect)\n",
    "tokenize_test_logreg(vect)\n",
    "\n",
    "print('\\033[4m' + '\\n1-grams and 2-grams, remove stop words, only include terms that appear at least two times:' +  '\\033[0m')\n",
    "vect = TfidfVectorizer(lowercase=True, stop_words='english', ngram_range=(1, 2), min_df=2)\n",
    "tokenize_test_mnb(vect)\n",
    "tokenize_test_gnb(vect)\n",
    "tokenize_test_logreg(vect)\n",
    "\n",
    "print('\\033[4m' + '\\n1-grams and 2-grams, remove stop words, up to 9000 features:' +  '\\033[0m')\n",
    "vect = TfidfVectorizer(lowercase=True, stop_words='english', ngram_range=(1, 2), max_features=9000)\n",
    "tokenize_test_mnb(vect)\n",
    "tokenize_test_gnb(vect)\n",
    "tokenize_test_logreg(vect)"
   ]
  },
  {
   "cell_type": "markdown",
   "metadata": {},
   "source": [
    "#### Chose final model"
   ]
  },
  {
   "cell_type": "code",
   "execution_count": 82,
   "metadata": {},
   "outputs": [],
   "source": [
    "# Instantiate TfidfVectorizer to convert a collection of raw documents to a matrix of TF-IDF features\n",
    "# -> Equivalent to CountVectorizer followed by TfidfTransformer\n",
    "# Note: lowercase: convert all characters to lowercase before tokenizing; default is True\n",
    "#       stop_words: if 'english', a built-in stop word list for English is used; default is None\n",
    "#       ngram_range: tuple (min_n, max_n); the lower and upper boundary of the range of n-values for \n",
    "#                    different n-grams to be extracted; all values of n such that min_n <= n <= max_n will be used\n",
    "#       min_df: when building the vocabulary ignore terms that have a 'document frequency' strictly lower than the \n",
    "#               given threshold; this value is also called cut-off in the literature\n",
    "#       max_features: build a vocabulary that only considers the top max_features ordered by term frequency across the corpus\n",
    "vect = TfidfVectorizer(lowercase=True, stop_words='english', ngram_range=(1, 2), min_df=2)"
   ]
  },
  {
   "cell_type": "code",
   "execution_count": 83,
   "metadata": {},
   "outputs": [
    {
     "name": "stdout",
     "output_type": "stream",
     "text": [
      "Features: 2856\n",
      "Testing accuracy score: 0.887\n"
     ]
    }
   ],
   "source": [
    "# Learn the vocabulary dictionary and return term-document matrix\n",
    "# -> This is equivalent to fit followed by transform, but more efficiently implemented\n",
    "X_train_dtm = vect.fit_transform(X_train.clean_text) \n",
    "    \n",
    "# Transform documents to document-term matrix\n",
    "# -> Extract token counts out of raw text documents using the vocabulary fitted with fit or the one provided to the constructor\n",
    "X_test_dtm = vect.transform(X_test.clean_text)\n",
    "    \n",
    "# Instantiate a Naive Bayes classifier for multinomial models and fit Naive Bayes classifier according to X, y\n",
    "mnb = MultinomialNB()\n",
    "mnb.fit(X_train_dtm, y_train)\n",
    "    \n",
    "# Return the number of columns (terms (aka \"tokens\" or \"features\"; individual words in this situation)) of the DataFrame\n",
    "print('Features: {}'.format(X_train_dtm.shape[1]))\n",
    "    \n",
    "# Predict the class using the Naive Bayes classifier\n",
    "y_pred_class = mnb.predict(X_test_dtm)\n",
    "    \n",
    "# Testing accuracy classification score\n",
    "print('Testing accuracy score:', round(metrics.accuracy_score(y_test, y_pred_class), 3))"
   ]
  },
  {
   "cell_type": "markdown",
   "metadata": {},
   "source": [
    "### Operational Phase"
   ]
  },
  {
   "cell_type": "code",
   "execution_count": 84,
   "metadata": {},
   "outputs": [],
   "source": [
    "# Function to make predictions\n",
    "def prediction(X_test, classifier_object):\n",
    "  \n",
    "    # Predict the class labels\n",
    "    y_pred_class = classifier_object.predict(X_test)\n",
    "\n",
    "    print('Predicted values:')\n",
    "    print(y_pred_class)\n",
    "    print('')\n",
    "    return y_pred_class"
   ]
  },
  {
   "cell_type": "code",
   "execution_count": 85,
   "metadata": {},
   "outputs": [],
   "source": [
    "# Function to calculate accuracy\n",
    "def cal_accuracy(y_test, y_pred_class, classifier_object):\n",
    "      \n",
    "    # Training accuracy classification score\n",
    "    print('Training accuracy score:', round(metrics.accuracy_score(y_train, classifier_object.predict(X_train_dtm)), 3))\n",
    "    \n",
    "    # Testing accuracy classification score\n",
    "    print('Testing accuracy score:', round(metrics.accuracy_score(y_test, y_pred_class), 3))\n",
    "    \n",
    "    if metrics.accuracy_score(y_train, classifier_object.predict(X_train_dtm)) < metrics.accuracy_score(y_test, y_pred_class):\n",
    "        print('Testing accuracy > Training accuracy')\n",
    "        print('-> Not overfitting')\n",
    "    else:\n",
    "        print('Testing accuracy < Training accuracy')\n",
    "        print('-> Overfitting!')\n",
    "    print('')\n",
    "    \n",
    "    # Confusion matrix to evaluate the accuracy of a classification\n",
    "    print('Confusion Matrix:')\n",
    "    conmat = metrics.confusion_matrix(y_test, y_pred_class)\n",
    "    print(pd.DataFrame(conmat,\n",
    "                       index=['True No Trump tweet', 'True Trump tweet'],\n",
    "                       columns=['Predicted No Trump tweet', 'Predicted Trump tweet']))\n",
    "    print('')\n",
    "    \n",
    "    # Build a text report showing the main classification metrics\n",
    "    print('Classification Report:')\n",
    "    print(metrics.classification_report(y_test, y_pred_class))\n",
    "    print('')\n",
    "    \n",
    "    # Area Under the Receiver Operating Characteristic Curve (ROC AUC)\n",
    "    print('ROC AUC:', round(metrics.roc_auc_score(y_test, y_pred_class), 3))\n",
    "    print('')\n",
    "    \n",
    "    # Log loss, aka logistic loss or cross-entropy loss\n",
    "    print('Log loss:', round(metrics.log_loss(y_test, y_pred_class), 3))"
   ]
  },
  {
   "cell_type": "markdown",
   "metadata": {},
   "source": [
    "https://machinelearningmastery.com/classification-accuracy-is-not-enough-more-performance-measures-you-can-use/"
   ]
  },
  {
   "cell_type": "markdown",
   "metadata": {},
   "source": [
    "$$Precision = Positive Predictive Value (PPV) = \\frac{True Positives}{True Positives + False Positives}--> completeness$$\n",
    "- \"How many of the items selected are relevant\"\n",
    "- Of the items placed into a class, how many of them are True Positives.\n",
    "- The ability of the classifier to not label a sample as positive if it is negative.\n",
    "<br>\n",
    "<br>\n",
    "$$Recall = True Positive Rate(Sensitivity) = \\frac{True Positives}{True Positives + False Negatives}-->exactness$$\n",
    "- \"How many of the relevant items are selected\"\n",
    "- Of the items that were suppose to be placed into a class, how many did we accurately place.\n",
    "- The ability of the classifier to find all the positive samples.\n",
    "<br>\n",
    "<br>\n",
    "$$F1Score = 2*\\frac{precision * recall}{precision + recall}$$\n",
    "- 0 <= F1 <= 1, where 0 is awful and 1 is perfection.\n",
    "- F1 is considered a harmonic mean as it averages Precision and Recall.\n",
    "- With classification models you often times have to choose what kind of error you are willing to increase in order to reduce the other and thus you may want to optimize Precision or Recall accordingly.\n",
    "- If you are uncertain which you should optimize, F1 score may be the metric of choice."
   ]
  },
  {
   "cell_type": "markdown",
   "metadata": {},
   "source": [
    "#### Prediction using Naive Bayes Classifier"
   ]
  },
  {
   "cell_type": "code",
   "execution_count": 86,
   "metadata": {},
   "outputs": [
    {
     "name": "stdout",
     "output_type": "stream",
     "text": [
      "Results Using Naive Bayes Classifier:\n",
      "Predicted values:\n",
      "[1 1 0 0 1 1 1 0 1 0 0 1 1 1 1 0 1 1 0 1 1 1 0 0 0 0 1 0 1 0 0 0 1 1 1 0 1\n",
      " 0 1 0 1 0 1 1 1 1 1 1 0 1 0 1 1 0 0 0 0 1 0 1 0 0 0 1 0 1 0 1 1 1 0 1 1 1\n",
      " 0 1 1 1 1 1 0 0 1 0 1 1 0 1 0 0 1 1 0 1 0 1 0 1 0 0 0 0 1 0 1 0 0 1 0 0 1\n",
      " 1 0 1 1 1 0 0 0 1 1 0 1 1 1 0 0 0 0 0 0 0 1 0 0 0 0 0 1 1 0 1 1 1 1 1 0 0\n",
      " 0 1 1 0 0 0 1 0 1 1 1 1 1 1 0 0 1 0 1 0 1 1 1 1 1 1 1 1 1 1 1 1 0 0 1 1 0\n",
      " 0 1 0 1 0 0 1 0 1 1 1 0 0 0 0 1 0 0 1 0 0 1 0 1 1 1 1 0 0 0 0 1 1 1 1 1 1\n",
      " 0 1 1 0 0 1 1 0 1 0 1 1 0 1 0 1 1 1 1 1 0 0 0 1 1 0 1 0 0 1 1 0 1 0 1 1 0\n",
      " 0 0 0 0 1 1 0 0 1 0 1 1 1 1 0 0 1 1 0 1 1 0 1 0 1 1 1 0 1 1 0 0 0 0 0 1 1\n",
      " 1 1 1 1 1 1 1 1 1 0 1 0 0 1 0 1 1 1 0 1 0 1 0 1 0 1 1 0 0 1 1 1 0 1 0 0 1\n",
      " 1 0 0 0 0 1 1 1 0 1 1 0 1 0 0 1 1 1 0 0 1 0 0 1 0 1 0 1 0 1 1 1 1 1 0 0 1\n",
      " 0 0 0 0 0 0 0 1 1 0 0 1 0 0 1 1 1 0 1 1 1 0 1 0 1 1 1 0 1 0 1 1 1 0 0 1 0\n",
      " 0 1 1 0 0 0 0 0 1 0 1 0 0 0 1 0 1 1 1 0 1 0 0 1 0 1 1 0 0 0 0 1 1 0 0 1 0\n",
      " 0 1 1 1 0 0 1 0 1 0 0 0 0 0 1 1 0 0 1 1 1 1 0 1 0 1 1 1 1 1 0 0 1 0 1 1 1\n",
      " 1 0 1 0 1 0 1 0 1 0 0 1 0 0 1 1 0 0 0 1 1 0 1 0 0 0 1 0 0 1 1 1 0 0 0 0 1\n",
      " 1 1 1 1 1 1 1 0 0 0 0 1 0 1 0 0 1 1 1 1 1 1 1 1 0 0 1 0 1 0 0 1 0 1 0 0 1\n",
      " 0 1 0 1 1 0 1 1 0 0 1 0 0 0 0 0 0 0 1 1 1 0 1 1 1 1 1 0 1 0 0 0 1 0 1 1 1\n",
      " 0 0 0 0 1 1 1 1]\n",
      "\n",
      "Training accuracy score: 0.974\n",
      "Testing accuracy score: 0.887\n",
      "Testing accuracy < Training accuracy\n",
      "-> Overfitting!\n",
      "\n",
      "Confusion Matrix:\n",
      "                     Predicted No Trump tweet  Predicted Trump tweet\n",
      "True No Trump tweet                       251                     39\n",
      "True Trump tweet                           29                    281\n",
      "\n",
      "Classification Report:\n",
      "             precision    recall  f1-score   support\n",
      "\n",
      "          0       0.90      0.87      0.88       290\n",
      "          1       0.88      0.91      0.89       310\n",
      "\n",
      "avg / total       0.89      0.89      0.89       600\n",
      "\n",
      "\n",
      "ROC AUC: 0.886\n",
      "\n",
      "Log loss: 3.914\n"
     ]
    }
   ],
   "source": [
    "print('Results Using Naive Bayes Classifier:')\n",
    "y_pred_class = prediction(X_test_dtm, mnb)\n",
    "cal_accuracy(y_test, y_pred_class, mnb)"
   ]
  },
  {
   "cell_type": "markdown",
   "metadata": {},
   "source": [
    "#### Plot Receiver Operating Characteristic (ROC) Curve"
   ]
  },
  {
   "cell_type": "code",
   "execution_count": 87,
   "metadata": {},
   "outputs": [
    {
     "data": {
      "image/png": "[encoded data removed]",
      "text/plain": [
       "<Figure size 432x288 with 1 Axes>"
      ]
     },
     "metadata": {},
     "output_type": "display_data"
    }
   ],
   "source": [
    "roc_auc = metrics.roc_auc_score(y_test, mnb.predict(X_test_dtm))\n",
    "fpr, tpr, thresholds = metrics.roc_curve(y_test, mnb.predict_proba(X_test_dtm)[:, 1])\n",
    "\n",
    "plt.title('Receiver Operating Characteristic')\n",
    "plt.plot(fpr, tpr, label='AUC = %0.3f' % roc_auc)\n",
    "plt.legend(loc='lower right')\n",
    "plt.plot([0, 1], [0, 1], 'r--')\n",
    "plt.xlim([0.0, 1.0])\n",
    "plt.ylim([0.0, 1.05])\n",
    "plt.xlabel('False Positive Rate')\n",
    "plt.ylabel('True Positive Rate')\n",
    "plt.show()"
   ]
  },
  {
   "cell_type": "markdown",
   "metadata": {},
   "source": [
    "### Check the Predicted Probability for a Random Pelosi and Trump tweet\n",
    "\n",
    "Below are provided a couple of tweets from both Pelosi and Trump.\n",
    "\n",
    "Estimate the predicted probability of being Trump for the two tweets."
   ]
  },
  {
   "cell_type": "code",
   "execution_count": 88,
   "metadata": {},
   "outputs": [],
   "source": [
    "# Prep our source as Tfidf vectors\n",
    "source_test = [\"Welcome to the Capitol, @EP_President Antonio Tajani! https://t.co/YEEb7kFmXF\",\n",
    "               \"It was not a campaign contribution, and there were no violations of the campaign finance laws by me. Fake News!\"]\n",
    "\n",
    "# NOTE:  Do not re-initialize the Tfidf vectorizor or the feature space will be overwritten and hence your transform \n",
    "#        will not match the number of features you trained your model on.\n",
    "#\n",
    "# This is why you only need to \"transform\" since you already \"fit\" previously.\n",
    "\n",
    "# Transform documents to document-term matrix\n",
    "X_test_dtm = vect.transform(source_test)"
   ]
  },
  {
   "cell_type": "code",
   "execution_count": 89,
   "metadata": {},
   "outputs": [
    {
     "data": {
      "text/plain": [
       "array([[0.69223854, 0.30776146],\n",
       "       [0.07527659, 0.92472341]])"
      ]
     },
     "execution_count": 89,
     "metadata": {},
     "output_type": "execute_result"
    }
   ],
   "source": [
    "# Calculate predicted probability estimates of class membership\n",
    "# Each row sums to one and contains the probabilities of the point being a 0-Pelosi, 1-Trump\n",
    "mnb.predict_proba(X_test_dtm)"
   ]
  },
  {
   "cell_type": "markdown",
   "metadata": {},
   "source": [
    "The 1st column is probability of being Pelosi, and the 2nd column of being Trump. The classifier is getting it right."
   ]
  }
 ],
 "metadata": {
  "anaconda-cloud": {},
  "kernelspec": {
   "display_name": "Python 3",
   "language": "python",
   "name": "python3"
  },
  "language_info": {
   "codemirror_mode": {
    "name": "ipython",
    "version": 3
   },
   "file_extension": ".py",
   "mimetype": "text/x-python",
   "name": "python",
   "nbconvert_exporter": "python",
   "pygments_lexer": "ipython3",
   "version": "3.6.8"
  }
 },
 "nbformat": 4,
 "nbformat_minor": 1
}
